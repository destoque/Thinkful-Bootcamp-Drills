{
 "cells": [
  {
   "cell_type": "code",
   "execution_count": 1,
   "metadata": {},
   "outputs": [],
   "source": [
    "import pandas as pd\n",
    "from matplotlib import pyplot as plt\n",
    "import numpy as np\n",
    "import seaborn as sns\n",
    "from sklearn import linear_model\n",
    "%matplotlib inline\n",
    "pd.options.display.float_format = '{:.3f}'.format\n",
    "\n",
    "# Suppress annoying harmless error.\n",
    "import warnings\n",
    "warnings.filterwarnings(action=\"ignore\", module=\"scipy\", message=\"^internal gelsd\")"
   ]
  },
  {
   "cell_type": "markdown",
   "metadata": {},
   "source": [
    "\n",
    "Propertycrime = α + Population + Population2 + Murder + Robbery\n",
    "\n",
    "The 'population' variable is already set for you, but you will need to create the last three features. Robbery and Murder are currently continuous variables. For this model, please use these variables to create categorical features where values greater than 0 are coded 1, and values equal to 0 are coded 0. You'll use this data and model in a later assignment- for now, just write the code you need to get the data ready. Don't forget basic data cleaning procedures, either! Do some graphing to see if there are any anomalous cases, and decide how you want to deal with them."
   ]
  },
  {
   "cell_type": "code",
   "execution_count": 2,
   "metadata": {},
   "outputs": [
    {
     "data": {
      "text/plain": [
       "Index(['City', 'Population', 'Violent\\ncrime',\n",
       "       'Murder and\\nnonnegligent\\nmanslaughter',\n",
       "       'Rape\\n(revised\\ndefinition)1', 'Rape\\n(legacy\\ndefinition)2',\n",
       "       'Robbery', 'Aggravated\\nassault', 'Property\\ncrime', 'Burglary',\n",
       "       'Larceny-\\ntheft', 'Motor\\nvehicle\\ntheft', 'Arson3'],\n",
       "      dtype='object')"
      ]
     },
     "metadata": {},
     "output_type": "display_data"
    },
    {
     "name": "stdout",
     "output_type": "stream",
     "text": [
      "     Population  Murder  Robbery     population2\n",
      "0      1861.000   0.000    0.000     3463321.000\n",
      "1      2577.000   0.000    0.000     6640929.000\n",
      "2      2846.000   0.000    0.000     8099716.000\n",
      "3     97956.000   1.000    1.000  9595377936.000\n",
      "4      6388.000   0.000    1.000    40806544.000\n",
      "5      4089.000   0.000    1.000    16719921.000\n",
      "6      1781.000   0.000    0.000     3171961.000\n",
      "7    118296.000   1.000    1.000 13993943616.000\n",
      "8      9519.000   0.000    1.000    90611361.000\n",
      "9     18182.000   0.000    1.000   330585124.000\n",
      "10     2053.000   0.000    0.000     4214809.000\n",
      "11     4523.000   0.000    1.000    20457529.000\n",
      "12      658.000   0.000    0.000      432964.000\n",
      "13     2522.000   0.000    0.000     6360484.000\n",
      "14    27270.000   1.000    1.000   743652900.000\n",
      "15     3333.000   0.000    1.000    11108889.000\n",
      "16     7473.000   0.000    1.000    55845729.000\n",
      "17     5418.000   0.000    1.000    29354724.000\n",
      "18    15374.000   0.000    1.000   236359876.000\n",
      "19     5733.000   0.000    1.000    32867289.000\n",
      "20    17627.000   0.000    1.000   310711129.000\n",
      "21    34243.000   0.000    1.000  1172583049.000\n",
      "22    46304.000   1.000    1.000  2144060416.000\n",
      "23     1410.000   0.000    0.000     1988100.000\n",
      "24    12001.000   0.000    0.000   144024001.000\n",
      "25     1022.000   0.000    0.000     1044484.000\n",
      "26     2325.000   0.000    0.000     5405625.000\n",
      "27     2054.000   0.000    0.000     4218916.000\n",
      "28     2065.000   0.000    1.000     4264225.000\n",
      "29     2358.000   0.000    0.000     5560164.000\n",
      "..          ...     ...      ...             ...\n",
      "318    3642.000   0.000    0.000    13264164.000\n",
      "319     615.000   0.000    0.000      378225.000\n",
      "320   12195.000   0.000    1.000   148718025.000\n",
      "321   61686.000   1.000    1.000  3805162596.000\n",
      "322   27980.000   0.000    1.000   782880400.000\n",
      "323    6887.000   1.000    1.000    47430769.000\n",
      "324   27940.000   0.000    1.000   780643600.000\n",
      "325    3012.000   0.000    0.000     9072144.000\n",
      "326    3453.000   0.000    0.000    11923209.000\n",
      "327    5828.000   0.000    1.000    33965584.000\n",
      "328    8392.000   0.000    0.000    70425664.000\n",
      "329    5175.000   0.000    1.000    26780625.000\n",
      "330   28179.000   0.000    1.000   794056041.000\n",
      "331   10245.000   1.000    1.000   104960025.000\n",
      "332    1862.000   0.000    0.000     3467044.000\n",
      "333    4337.000   0.000    1.000    18809569.000\n",
      "334   43777.000   0.000    1.000  1916425729.000\n",
      "335    1797.000   0.000    0.000     3229209.000\n",
      "336    4574.000   0.000    0.000    20921476.000\n",
      "337    1732.000   0.000    0.000     2999824.000\n",
      "338   44821.000   1.000    1.000  2008922041.000\n",
      "339    2604.000   0.000    0.000     6780816.000\n",
      "340   57559.000   1.000    1.000  3313038481.000\n",
      "341    3733.000   0.000    0.000    13935289.000\n",
      "342    9141.000   0.000    0.000    83557881.000\n",
      "343   10685.000   0.000    1.000   114169225.000\n",
      "344     829.000   0.000    0.000      687241.000\n",
      "345    5931.000   0.000    0.000    35176761.000\n",
      "346  199134.000   1.000    1.000 39654349956.000\n",
      "347   36643.000   0.000    1.000  1342709449.000\n",
      "\n",
      "[348 rows x 4 columns]\n"
     ]
    }
   ],
   "source": [
    "df = pd.read_csv('C:\\\\Users\\\\david\\Desktop\\\\thinkful datasets\\\\table_8_offenses_known_to_law_enforcement_new_york_by_city_2013.csv', header=4,)\n",
    "\n",
    "df\n",
    "display(df.columns)\n",
    "\n",
    "data= pd.DataFrame(df) \n",
    "\n",
    "needed_data = data.loc[:, ['Population', 'Murder and\\nnonnegligent\\nmanslaughter', 'Robbery']]\n",
    "needed_data.columns = ['Population', 'Murder', 'Robbery']\n",
    "\n",
    "needed_data = needed_data.dropna()\n",
    "\n",
    "needed_data.Robbery = needed_data.Robbery.where(needed_data.Robbery == 0, 1)\n",
    "needed_data.Murder = needed_data.Murder.where(needed_data.Murder == 0, 1)\n",
    "\n",
    "needed_data[\"population2\"] = needed_data[\"Population\"]**2\n",
    "\n",
    "\n",
    "print (needed_data)"
   ]
  },
  {
   "cell_type": "code",
   "execution_count": 3,
   "metadata": {},
   "outputs": [
    {
     "data": {
      "image/png": "[encoded data removed]",
      "text/plain": [
       "<Figure size 432x288 with 1 Axes>"
      ]
     },
     "metadata": {},
     "output_type": "display_data"
    }
   ],
   "source": [
    "sns.boxplot(\n",
    "    needed_data.Murder,\n",
    "    needed_data.Population,\n",
    ")\n",
    "plt.xlabel('Murder')\n",
    "plt.ylabel('Population')\n",
    "plt.show()"
   ]
  },
  {
   "cell_type": "code",
   "execution_count": 4,
   "metadata": {},
   "outputs": [
    {
     "data": {
      "image/png": "[encoded data removed]",
      "text/plain": [
       "<Figure size 432x288 with 1 Axes>"
      ]
     },
     "metadata": {},
     "output_type": "display_data"
    }
   ],
   "source": [
    "sns.barplot(x='Murder', y='Population', data=needed_data)\n",
    "plt.show()"
   ]
  },
  {
   "cell_type": "code",
   "execution_count": null,
   "metadata": {},
   "outputs": [],
   "source": []
  }
 ],
 "metadata": {
  "kernelspec": {
   "display_name": "Python 3",
   "language": "python",
   "name": "python3"
  },
  "language_info": {
   "codemirror_mode": {
    "name": "ipython",
    "version": 3
   },
   "file_extension": ".py",
   "mimetype": "text/x-python",
   "name": "python",
   "nbconvert_exporter": "python",
   "pygments_lexer": "ipython3",
   "version": "3.6.5"
  }
 },
 "nbformat": 4,
 "nbformat_minor": 2
}
