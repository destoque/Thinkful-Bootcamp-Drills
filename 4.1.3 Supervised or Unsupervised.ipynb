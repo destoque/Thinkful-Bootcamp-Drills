{
 "cells": [
  {
   "cell_type": "markdown",
   "metadata": {},
   "source": [
    "- Define the likelihood that an individual will contract a specific disease\n",
    "    -Supervised\n",
    "- Translate a set of images into variables for modeling\n",
    "    -Unsupervised. Clustering and PCA\n",
    "- An ecommerce company wants to identify power users\n",
    "    -Supervised\n",
    "- That same company wants to see shopping patterns in users\n",
    "    -Unsupervised. Clustering\n",
    "- You want to reduce the number of variables inputting into your random forest model\n",
    "    -PCA, Unsupervised\n",
    "   "
   ]
  },
  {
   "cell_type": "code",
   "execution_count": null,
   "metadata": {},
   "outputs": [],
   "source": []
  }
 ],
 "metadata": {
  "kernelspec": {
   "display_name": "Python 3",
   "language": "python",
   "name": "python3"
  },
  "language_info": {
   "codemirror_mode": {
    "name": "ipython",
    "version": 3
   },
   "file_extension": ".py",
   "mimetype": "text/x-python",
   "name": "python",
   "nbconvert_exporter": "python",
   "pygments_lexer": "ipython3",
   "version": "3.6.5"
  }
 },
 "nbformat": 4,
 "nbformat_minor": 2
}
