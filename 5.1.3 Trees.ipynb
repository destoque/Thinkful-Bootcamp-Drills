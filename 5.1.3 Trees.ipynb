{
 "cells": [
  {
   "cell_type": "code",
   "execution_count": 8,
   "metadata": {},
   "outputs": [
    {
     "name": "stdout",
     "output_type": "stream",
     "text": [
      "3\n",
      "4\n",
      "6\n",
      "12\n",
      "13\n",
      "14\n",
      "16\n",
      "18\n",
      "19\n",
      "21\n",
      "22\n",
      "23\n",
      "24\n",
      "26\n"
     ]
    }
   ],
   "source": [
    "class Node:\n",
    "\n",
    "    def __init__(self, data):\n",
    "\n",
    "        self.left = None\n",
    "        self.right = None\n",
    "        self.data = data\n",
    "\n",
    "\n",
    "    def PrintTree(self):\n",
    "        print(self.data)\n",
    "        \n",
    "    def insert(self, data):\n",
    "# Compare the new value with the parent node\n",
    "        if self.data:\n",
    "            if data < self.data:\n",
    "                if self.left is None:\n",
    "                    self.left = Node(data)\n",
    "                else:\n",
    "                    self.left.insert(data)\n",
    "            elif data > self.data:\n",
    "                if self.right is None:\n",
    "                    self.right = Node(data)\n",
    "                else:\n",
    "                    self.right.insert(data)\n",
    "        else:\n",
    "            self.data = data\n",
    "            \n",
    "            # Print the tree\n",
    "    def PrintTree(self):\n",
    "        if self.left:\n",
    "            self.left.PrintTree()\n",
    "        print( self.data),\n",
    "        if self.right:\n",
    "            self.right.PrintTree()\n",
    "\n",
    "# Use the insert method to add nodes\n",
    "root = Node(12)\n",
    "root.insert(6)\n",
    "root.insert(14)\n",
    "root.insert(3)\n",
    "root.insert(18)\n",
    "root.insert(22)\n",
    "root.insert(4)\n",
    "root.insert(23)\n",
    "root.insert(13)\n",
    "root.insert(19)\n",
    "root.insert(21)\n",
    "root.insert(24)\n",
    "root.insert(13)\n",
    "root.insert(16)\n",
    "root.insert(26)\n",
    "\n",
    "root.PrintTree()"
   ]
  },
  {
   "cell_type": "code",
   "execution_count": null,
   "metadata": {},
   "outputs": [],
   "source": [
    "root = Node('David')\n",
    "root.left= Node('Maggie')\n",
    "root.right = Node('Victor')\n",
    "root.left.left = Node('Liz')\n",
    "root.left.right = Node('Nino')\n",
    "root.left.left.right = Node('Dan')\n",
    "root.left.left.left = Node('Jon')\n",
    "root.left.right.left = Node('Martin')\n",
    "root.left.right.right = Node('Milton')\n",
    "root.right.left = Node('Steve')\n",
    "root.right.right = Node('Zion')\n",
    "root.right.left.left = Node('Pai')\n",
    "root.right.left.right = Node('Eric')\n",
    "root.right.right.left=Node('Abbey')\n",
    "root.right.right.right = Node('Terry')"
   ]
  }
 ],
 "metadata": {
  "kernelspec": {
   "display_name": "Python 3",
   "language": "python",
   "name": "python3"
  },
  "language_info": {
   "codemirror_mode": {
    "name": "ipython",
    "version": 3
   },
   "file_extension": ".py",
   "mimetype": "text/x-python",
   "name": "python",
   "nbconvert_exporter": "python",
   "pygments_lexer": "ipython3",
   "version": "3.6.5"
  }
 },
 "nbformat": 4,
 "nbformat_minor": 2
}
