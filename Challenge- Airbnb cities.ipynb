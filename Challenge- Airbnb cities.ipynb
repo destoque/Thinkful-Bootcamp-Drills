{
 "cells": [
  {
   "cell_type": "markdown",
   "metadata": {},
   "source": [
    "What's the most expensive listing? What else can you tell me about the listing?"
   ]
  },
  {
   "cell_type": "code",
   "execution_count": null,
   "metadata": {},
   "outputs": [],
   "source": [
    "SELECT\n",
    "    id,\n",
    "    price\n",
    "FROM\n",
    "    listings\n",
    "GROUP BY 2\n",
    "ORDER BY 2 desc\n",
    "limit 2\n",
    "\n",
    "Theire were multiple homes set at the highest price of $999. The one that came up was titled \"Brand New Ocean Home-20ppl\"and was in Ocean Beach"
   ]
  },
  {
   "cell_type": "markdown",
   "metadata": {},
   "source": [
    "What neighborhoods seem to be the most popular?"
   ]
  },
  {
   "cell_type": "code",
   "execution_count": null,
   "metadata": {},
   "outputs": [],
   "source": [
    "select\n",
    "\tneighbourhood,\n",
    "\tcount(*) as listings_count\n",
    "from\n",
    "\tlistings\n",
    "group by neighbourhood\n",
    "order by listings_count desc\n",
    "\n",
    "The most popular neighborhood is Mission Bay with 789 listings"
   ]
  },
  {
   "cell_type": "markdown",
   "metadata": {},
   "source": [
    "What time of year is the cheapest time to go to your city? What about the busiest?"
   ]
  },
  {
   "cell_type": "markdown",
   "metadata": {},
   "source": [
    "No Data for time of year"
   ]
  }
 ],
 "metadata": {
  "kernelspec": {
   "display_name": "Python 3",
   "language": "python",
   "name": "python3"
  },
  "language_info": {
   "codemirror_mode": {
    "name": "ipython",
    "version": 3
   },
   "file_extension": ".py",
   "mimetype": "text/x-python",
   "name": "python",
   "nbconvert_exporter": "python",
   "pygments_lexer": "ipython3",
   "version": "3.6.5"
  }
 },
 "nbformat": 4,
 "nbformat_minor": 2
}
