{
 "cells": [
  {
   "cell_type": "code",
   "execution_count": 1,
   "metadata": {},
   "outputs": [],
   "source": [
    "import numpy as np\n",
    "import pandas as pd\n",
    "import scipy\n",
    "import matplotlib.pyplot as plt\n",
    "import seaborn as sns\n",
    "%matplotlib inline\n",
    "\n",
    "import itertools\n",
    "from sklearn import metrics\n",
    "from sklearn.metrics import pairwise_distances\n",
    "\n",
    "from sklearn.cluster import AffinityPropagation\n",
    "from sklearn.cluster import KMeans\n",
    "from sklearn.cluster import MeanShift, estimate_bandwidth\n",
    "from sklearn.cluster import SpectralClustering"
   ]
  },
  {
   "cell_type": "markdown",
   "metadata": {},
   "source": [
    "## 2013 Boston Marathon Data"
   ]
  },
  {
   "cell_type": "markdown",
   "metadata": {},
   "source": [
    "Use the tools at hand to determine which clustering solution, including number of clusters and algorithm used, is best for the marathon data. Once you have a solution you like, write a data story, including visualizations, where you teach the reader something about the Boston Marathon based on your clusters. Write up your report, including your process from start to finish, in a Jupyter notebook and submit it below."
   ]
  },
  {
   "cell_type": "code",
   "execution_count": 2,
   "metadata": {},
   "outputs": [],
   "source": [
    "marathon_data = pd.read_csv('C:\\\\Users\\\\david\\Desktop\\\\thinkful datasets\\\\2013_Boston_Marathon.csv')"
   ]
  },
  {
   "cell_type": "code",
   "execution_count": 3,
   "metadata": {},
   "outputs": [
    {
     "data": {
      "text/html": [
       "<div>\n",
       "<style scoped>\n",
       "    .dataframe tbody tr th:only-of-type {\n",
       "        vertical-align: middle;\n",
       "    }\n",
       "\n",
       "    .dataframe tbody tr th {\n",
       "        vertical-align: top;\n",
       "    }\n",
       "\n",
       "    .dataframe thead th {\n",
       "        text-align: right;\n",
       "    }\n",
       "</style>\n",
       "<table border=\"1\" class=\"dataframe\">\n",
       "  <thead>\n",
       "    <tr style=\"text-align: right;\">\n",
       "      <th></th>\n",
       "      <th>25k</th>\n",
       "      <th>age</th>\n",
       "      <th>name</th>\n",
       "      <th>division</th>\n",
       "      <th>10k</th>\n",
       "      <th>gender</th>\n",
       "      <th>half</th>\n",
       "      <th>official</th>\n",
       "      <th>bib</th>\n",
       "      <th>ctz</th>\n",
       "      <th>...</th>\n",
       "      <th>overall</th>\n",
       "      <th>pace</th>\n",
       "      <th>state</th>\n",
       "      <th>30k</th>\n",
       "      <th>5k</th>\n",
       "      <th>genderdiv</th>\n",
       "      <th>20k</th>\n",
       "      <th>35k</th>\n",
       "      <th>city</th>\n",
       "      <th>40k</th>\n",
       "    </tr>\n",
       "  </thead>\n",
       "  <tbody>\n",
       "    <tr>\n",
       "      <th>0</th>\n",
       "      <td>49.87</td>\n",
       "      <td>28</td>\n",
       "      <td>Cassidy, Josh R.</td>\n",
       "      <td>9</td>\n",
       "      <td>18.18</td>\n",
       "      <td>M</td>\n",
       "      <td>40.93</td>\n",
       "      <td>90.90</td>\n",
       "      <td>W1</td>\n",
       "      <td>NaN</td>\n",
       "      <td>...</td>\n",
       "      <td>9</td>\n",
       "      <td>3.47</td>\n",
       "      <td>ON</td>\n",
       "      <td>62.07</td>\n",
       "      <td>8.90</td>\n",
       "      <td>9</td>\n",
       "      <td>38.80</td>\n",
       "      <td>74.73</td>\n",
       "      <td>Toronto</td>\n",
       "      <td>85.55</td>\n",
       "    </tr>\n",
       "    <tr>\n",
       "      <th>1</th>\n",
       "      <td>77.27</td>\n",
       "      <td>30</td>\n",
       "      <td>Korir, Wesley</td>\n",
       "      <td>5</td>\n",
       "      <td>30.90</td>\n",
       "      <td>M</td>\n",
       "      <td>64.90</td>\n",
       "      <td>132.50</td>\n",
       "      <td>1</td>\n",
       "      <td>NaN</td>\n",
       "      <td>...</td>\n",
       "      <td>5</td>\n",
       "      <td>5.07</td>\n",
       "      <td>NaN</td>\n",
       "      <td>92.97</td>\n",
       "      <td>15.90</td>\n",
       "      <td>5</td>\n",
       "      <td>61.52</td>\n",
       "      <td>108.78</td>\n",
       "      <td>Kenya</td>\n",
       "      <td>124.77</td>\n",
       "    </tr>\n",
       "    <tr>\n",
       "      <th>2</th>\n",
       "      <td>77.23</td>\n",
       "      <td>23</td>\n",
       "      <td>Desisa, Lelisa</td>\n",
       "      <td>1</td>\n",
       "      <td>30.90</td>\n",
       "      <td>M</td>\n",
       "      <td>64.92</td>\n",
       "      <td>130.37</td>\n",
       "      <td>2</td>\n",
       "      <td>NaN</td>\n",
       "      <td>...</td>\n",
       "      <td>1</td>\n",
       "      <td>4.98</td>\n",
       "      <td>NaN</td>\n",
       "      <td>92.72</td>\n",
       "      <td>15.93</td>\n",
       "      <td>1</td>\n",
       "      <td>61.53</td>\n",
       "      <td>108.68</td>\n",
       "      <td>Ambo</td>\n",
       "      <td>123.78</td>\n",
       "    </tr>\n",
       "    <tr>\n",
       "      <th>3</th>\n",
       "      <td>50.50</td>\n",
       "      <td>32</td>\n",
       "      <td>Fearnley, Kurt H.</td>\n",
       "      <td>5</td>\n",
       "      <td>18.73</td>\n",
       "      <td>M</td>\n",
       "      <td>42.00</td>\n",
       "      <td>88.43</td>\n",
       "      <td>W2</td>\n",
       "      <td>NaN</td>\n",
       "      <td>...</td>\n",
       "      <td>5</td>\n",
       "      <td>3.38</td>\n",
       "      <td>NaN</td>\n",
       "      <td>61.35</td>\n",
       "      <td>8.98</td>\n",
       "      <td>5</td>\n",
       "      <td>39.88</td>\n",
       "      <td>73.00</td>\n",
       "      <td>Hamilton</td>\n",
       "      <td>83.43</td>\n",
       "    </tr>\n",
       "    <tr>\n",
       "      <th>4</th>\n",
       "      <td>48.75</td>\n",
       "      <td>39</td>\n",
       "      <td>Hokinoue, Kota</td>\n",
       "      <td>3</td>\n",
       "      <td>18.18</td>\n",
       "      <td>M</td>\n",
       "      <td>40.57</td>\n",
       "      <td>87.22</td>\n",
       "      <td>W3</td>\n",
       "      <td>NaN</td>\n",
       "      <td>...</td>\n",
       "      <td>3</td>\n",
       "      <td>3.33</td>\n",
       "      <td>NaN</td>\n",
       "      <td>59.92</td>\n",
       "      <td>8.92</td>\n",
       "      <td>3</td>\n",
       "      <td>38.55</td>\n",
       "      <td>71.68</td>\n",
       "      <td>Iizuka</td>\n",
       "      <td>81.88</td>\n",
       "    </tr>\n",
       "  </tbody>\n",
       "</table>\n",
       "<p>5 rows × 21 columns</p>\n",
       "</div>"
      ],
      "text/plain": [
       "     25k  age               name  division    10k gender   half  official bib  \\\n",
       "0  49.87   28   Cassidy, Josh R.         9  18.18      M  40.93     90.90  W1   \n",
       "1  77.27   30      Korir, Wesley         5  30.90      M  64.90    132.50   1   \n",
       "2  77.23   23     Desisa, Lelisa         1  30.90      M  64.92    130.37   2   \n",
       "3  50.50   32  Fearnley, Kurt H.         5  18.73      M  42.00     88.43  W2   \n",
       "4  48.75   39     Hokinoue, Kota         3  18.18      M  40.57     87.22  W3   \n",
       "\n",
       "   ctz   ...   overall  pace  state    30k     5k genderdiv    20k     35k  \\\n",
       "0  NaN   ...         9  3.47     ON  62.07   8.90         9  38.80   74.73   \n",
       "1  NaN   ...         5  5.07    NaN  92.97  15.90         5  61.52  108.78   \n",
       "2  NaN   ...         1  4.98    NaN  92.72  15.93         1  61.53  108.68   \n",
       "3  NaN   ...         5  3.38    NaN  61.35   8.98         5  39.88   73.00   \n",
       "4  NaN   ...         3  3.33    NaN  59.92   8.92         3  38.55   71.68   \n",
       "\n",
       "       city     40k  \n",
       "0   Toronto   85.55  \n",
       "1     Kenya  124.77  \n",
       "2      Ambo  123.78  \n",
       "3  Hamilton   83.43  \n",
       "4    Iizuka   81.88  \n",
       "\n",
       "[5 rows x 21 columns]"
      ]
     },
     "execution_count": 3,
     "metadata": {},
     "output_type": "execute_result"
    }
   ],
   "source": [
    "marathon_data.head(5)"
   ]
  },
  {
   "cell_type": "code",
   "execution_count": 4,
   "metadata": {},
   "outputs": [
    {
     "data": {
      "text/html": [
       "<div>\n",
       "<style scoped>\n",
       "    .dataframe tbody tr th:only-of-type {\n",
       "        vertical-align: middle;\n",
       "    }\n",
       "\n",
       "    .dataframe tbody tr th {\n",
       "        vertical-align: top;\n",
       "    }\n",
       "\n",
       "    .dataframe thead th {\n",
       "        text-align: right;\n",
       "    }\n",
       "</style>\n",
       "<table border=\"1\" class=\"dataframe\">\n",
       "  <thead>\n",
       "    <tr style=\"text-align: right;\">\n",
       "      <th></th>\n",
       "      <th>age</th>\n",
       "      <th>division</th>\n",
       "      <th>official</th>\n",
       "      <th>overall</th>\n",
       "      <th>pace</th>\n",
       "      <th>genderdiv</th>\n",
       "    </tr>\n",
       "  </thead>\n",
       "  <tbody>\n",
       "    <tr>\n",
       "      <th>count</th>\n",
       "      <td>16164.000000</td>\n",
       "      <td>16164.000000</td>\n",
       "      <td>16164.000000</td>\n",
       "      <td>16164.000000</td>\n",
       "      <td>16164.000000</td>\n",
       "      <td>16164.000000</td>\n",
       "    </tr>\n",
       "    <tr>\n",
       "      <th>mean</th>\n",
       "      <td>41.638332</td>\n",
       "      <td>1100.967025</td>\n",
       "      <td>208.159470</td>\n",
       "      <td>8429.373422</td>\n",
       "      <td>7.947398</td>\n",
       "      <td>4351.684732</td>\n",
       "    </tr>\n",
       "    <tr>\n",
       "      <th>std</th>\n",
       "      <td>10.351311</td>\n",
       "      <td>942.114816</td>\n",
       "      <td>23.743608</td>\n",
       "      <td>5052.024116</td>\n",
       "      <td>0.905739</td>\n",
       "      <td>2772.398239</td>\n",
       "    </tr>\n",
       "    <tr>\n",
       "      <th>min</th>\n",
       "      <td>18.000000</td>\n",
       "      <td>1.000000</td>\n",
       "      <td>85.530000</td>\n",
       "      <td>1.000000</td>\n",
       "      <td>3.270000</td>\n",
       "      <td>1.000000</td>\n",
       "    </tr>\n",
       "    <tr>\n",
       "      <th>25%</th>\n",
       "      <td>34.000000</td>\n",
       "      <td>363.000000</td>\n",
       "      <td>191.727500</td>\n",
       "      <td>4061.750000</td>\n",
       "      <td>7.320000</td>\n",
       "      <td>2032.750000</td>\n",
       "    </tr>\n",
       "    <tr>\n",
       "      <th>50%</th>\n",
       "      <td>42.000000</td>\n",
       "      <td>842.000000</td>\n",
       "      <td>209.225000</td>\n",
       "      <td>8247.500000</td>\n",
       "      <td>7.980000</td>\n",
       "      <td>4113.500000</td>\n",
       "    </tr>\n",
       "    <tr>\n",
       "      <th>75%</th>\n",
       "      <td>49.000000</td>\n",
       "      <td>1560.000000</td>\n",
       "      <td>225.230000</td>\n",
       "      <td>12662.250000</td>\n",
       "      <td>8.600000</td>\n",
       "      <td>6316.000000</td>\n",
       "    </tr>\n",
       "    <tr>\n",
       "      <th>max</th>\n",
       "      <td>80.000000</td>\n",
       "      <td>3834.000000</td>\n",
       "      <td>284.230000</td>\n",
       "      <td>17598.000000</td>\n",
       "      <td>10.850000</td>\n",
       "      <td>10648.000000</td>\n",
       "    </tr>\n",
       "  </tbody>\n",
       "</table>\n",
       "</div>"
      ],
      "text/plain": [
       "                age      division      official       overall          pace  \\\n",
       "count  16164.000000  16164.000000  16164.000000  16164.000000  16164.000000   \n",
       "mean      41.638332   1100.967025    208.159470   8429.373422      7.947398   \n",
       "std       10.351311    942.114816     23.743608   5052.024116      0.905739   \n",
       "min       18.000000      1.000000     85.530000      1.000000      3.270000   \n",
       "25%       34.000000    363.000000    191.727500   4061.750000      7.320000   \n",
       "50%       42.000000    842.000000    209.225000   8247.500000      7.980000   \n",
       "75%       49.000000   1560.000000    225.230000  12662.250000      8.600000   \n",
       "max       80.000000   3834.000000    284.230000  17598.000000     10.850000   \n",
       "\n",
       "          genderdiv  \n",
       "count  16164.000000  \n",
       "mean    4351.684732  \n",
       "std     2772.398239  \n",
       "min        1.000000  \n",
       "25%     2032.750000  \n",
       "50%     4113.500000  \n",
       "75%     6316.000000  \n",
       "max    10648.000000  "
      ]
     },
     "execution_count": 4,
     "metadata": {},
     "output_type": "execute_result"
    }
   ],
   "source": [
    "marathon_data.describe()"
   ]
  },
  {
   "cell_type": "code",
   "execution_count": 5,
   "metadata": {},
   "outputs": [
    {
     "data": {
      "text/plain": [
       "25k           object\n",
       "age            int64\n",
       "name          object\n",
       "division       int64\n",
       "10k           object\n",
       "gender        object\n",
       "half          object\n",
       "official     float64\n",
       "bib           object\n",
       "ctz           object\n",
       "country       object\n",
       "overall        int64\n",
       "pace         float64\n",
       "state         object\n",
       "30k           object\n",
       "5k            object\n",
       "genderdiv      int64\n",
       "20k           object\n",
       "35k           object\n",
       "city          object\n",
       "40k           object\n",
       "dtype: object"
      ]
     },
     "execution_count": 5,
     "metadata": {},
     "output_type": "execute_result"
    }
   ],
   "source": [
    "marathon_data.dtypes"
   ]
  },
  {
   "cell_type": "code",
   "execution_count": 6,
   "metadata": {},
   "outputs": [
    {
     "data": {
      "text/plain": [
       "(16164, 21)"
      ]
     },
     "execution_count": 6,
     "metadata": {},
     "output_type": "execute_result"
    }
   ],
   "source": [
    "marathon_data.shape"
   ]
  },
  {
   "cell_type": "code",
   "execution_count": 7,
   "metadata": {},
   "outputs": [
    {
     "data": {
      "text/plain": [
       "ctz      15407\n",
       "state     1463\n",
       "city         1\n",
       "dtype: int64"
      ]
     },
     "execution_count": 7,
     "metadata": {},
     "output_type": "execute_result"
    }
   ],
   "source": [
    "null_count = marathon_data.isnull().sum()\n",
    "null_count[null_count>0]"
   ]
  },
  {
   "cell_type": "code",
   "execution_count": 8,
   "metadata": {},
   "outputs": [
    {
     "data": {
      "text/plain": [
       "Index(['25k', 'age', 'name', 'division', '10k', 'gender', 'half', 'official',\n",
       "       'bib', 'ctz', 'country', 'overall', 'pace', 'state', '30k', '5k',\n",
       "       'genderdiv', '20k', '35k', 'city', '40k'],\n",
       "      dtype='object')"
      ]
     },
     "execution_count": 8,
     "metadata": {},
     "output_type": "execute_result"
    }
   ],
   "source": [
    "marathon_data.columns"
   ]
  },
  {
   "cell_type": "code",
   "execution_count": 9,
   "metadata": {},
   "outputs": [],
   "source": [
    "#change gender to numeric columns\n",
    "\n",
    "marathon_data['gender'] = np.where(marathon_data['gender']=='M',1,0)"
   ]
  },
  {
   "cell_type": "code",
   "execution_count": 10,
   "metadata": {},
   "outputs": [],
   "source": [
    "#drop uneeded columns\n",
    "\n",
    "marathon_data = marathon_data.drop(['name', 'ctz', 'state', 'bib', 'country', 'city', 'genderdiv'], axis=1)"
   ]
  },
  {
   "cell_type": "code",
   "execution_count": 11,
   "metadata": {},
   "outputs": [
    {
     "data": {
      "text/plain": [
       "(16164, 14)"
      ]
     },
     "execution_count": 11,
     "metadata": {},
     "output_type": "execute_result"
    }
   ],
   "source": [
    "marathon_data.shape"
   ]
  },
  {
   "cell_type": "code",
   "execution_count": 12,
   "metadata": {},
   "outputs": [
    {
     "data": {
      "text/html": [
       "<div>\n",
       "<style scoped>\n",
       "    .dataframe tbody tr th:only-of-type {\n",
       "        vertical-align: middle;\n",
       "    }\n",
       "\n",
       "    .dataframe tbody tr th {\n",
       "        vertical-align: top;\n",
       "    }\n",
       "\n",
       "    .dataframe thead th {\n",
       "        text-align: right;\n",
       "    }\n",
       "</style>\n",
       "<table border=\"1\" class=\"dataframe\">\n",
       "  <thead>\n",
       "    <tr style=\"text-align: right;\">\n",
       "      <th></th>\n",
       "      <th>25k</th>\n",
       "      <th>age</th>\n",
       "      <th>division</th>\n",
       "      <th>10k</th>\n",
       "      <th>gender</th>\n",
       "      <th>half</th>\n",
       "      <th>official</th>\n",
       "      <th>overall</th>\n",
       "      <th>pace</th>\n",
       "      <th>30k</th>\n",
       "      <th>5k</th>\n",
       "      <th>20k</th>\n",
       "      <th>35k</th>\n",
       "      <th>40k</th>\n",
       "    </tr>\n",
       "  </thead>\n",
       "  <tbody>\n",
       "    <tr>\n",
       "      <th>0</th>\n",
       "      <td>49.87</td>\n",
       "      <td>28</td>\n",
       "      <td>9</td>\n",
       "      <td>18.18</td>\n",
       "      <td>1</td>\n",
       "      <td>40.93</td>\n",
       "      <td>90.90</td>\n",
       "      <td>9</td>\n",
       "      <td>3.47</td>\n",
       "      <td>62.07</td>\n",
       "      <td>8.90</td>\n",
       "      <td>38.80</td>\n",
       "      <td>74.73</td>\n",
       "      <td>85.55</td>\n",
       "    </tr>\n",
       "    <tr>\n",
       "      <th>1</th>\n",
       "      <td>77.27</td>\n",
       "      <td>30</td>\n",
       "      <td>5</td>\n",
       "      <td>30.90</td>\n",
       "      <td>1</td>\n",
       "      <td>64.90</td>\n",
       "      <td>132.50</td>\n",
       "      <td>5</td>\n",
       "      <td>5.07</td>\n",
       "      <td>92.97</td>\n",
       "      <td>15.90</td>\n",
       "      <td>61.52</td>\n",
       "      <td>108.78</td>\n",
       "      <td>124.77</td>\n",
       "    </tr>\n",
       "    <tr>\n",
       "      <th>2</th>\n",
       "      <td>77.23</td>\n",
       "      <td>23</td>\n",
       "      <td>1</td>\n",
       "      <td>30.90</td>\n",
       "      <td>1</td>\n",
       "      <td>64.92</td>\n",
       "      <td>130.37</td>\n",
       "      <td>1</td>\n",
       "      <td>4.98</td>\n",
       "      <td>92.72</td>\n",
       "      <td>15.93</td>\n",
       "      <td>61.53</td>\n",
       "      <td>108.68</td>\n",
       "      <td>123.78</td>\n",
       "    </tr>\n",
       "    <tr>\n",
       "      <th>3</th>\n",
       "      <td>50.50</td>\n",
       "      <td>32</td>\n",
       "      <td>5</td>\n",
       "      <td>18.73</td>\n",
       "      <td>1</td>\n",
       "      <td>42.00</td>\n",
       "      <td>88.43</td>\n",
       "      <td>5</td>\n",
       "      <td>3.38</td>\n",
       "      <td>61.35</td>\n",
       "      <td>8.98</td>\n",
       "      <td>39.88</td>\n",
       "      <td>73.00</td>\n",
       "      <td>83.43</td>\n",
       "    </tr>\n",
       "    <tr>\n",
       "      <th>4</th>\n",
       "      <td>48.75</td>\n",
       "      <td>39</td>\n",
       "      <td>3</td>\n",
       "      <td>18.18</td>\n",
       "      <td>1</td>\n",
       "      <td>40.57</td>\n",
       "      <td>87.22</td>\n",
       "      <td>3</td>\n",
       "      <td>3.33</td>\n",
       "      <td>59.92</td>\n",
       "      <td>8.92</td>\n",
       "      <td>38.55</td>\n",
       "      <td>71.68</td>\n",
       "      <td>81.88</td>\n",
       "    </tr>\n",
       "  </tbody>\n",
       "</table>\n",
       "</div>"
      ],
      "text/plain": [
       "     25k  age  division    10k  gender   half  official  overall  pace    30k  \\\n",
       "0  49.87   28         9  18.18       1  40.93     90.90        9  3.47  62.07   \n",
       "1  77.27   30         5  30.90       1  64.90    132.50        5  5.07  92.97   \n",
       "2  77.23   23         1  30.90       1  64.92    130.37        1  4.98  92.72   \n",
       "3  50.50   32         5  18.73       1  42.00     88.43        5  3.38  61.35   \n",
       "4  48.75   39         3  18.18       1  40.57     87.22        3  3.33  59.92   \n",
       "\n",
       "      5k    20k     35k     40k  \n",
       "0   8.90  38.80   74.73   85.55  \n",
       "1  15.90  61.52  108.78  124.77  \n",
       "2  15.93  61.53  108.68  123.78  \n",
       "3   8.98  39.88   73.00   83.43  \n",
       "4   8.92  38.55   71.68   81.88  "
      ]
     },
     "execution_count": 12,
     "metadata": {},
     "output_type": "execute_result"
    }
   ],
   "source": [
    "marathon_data.head(5)"
   ]
  },
  {
   "cell_type": "code",
   "execution_count": 13,
   "metadata": {},
   "outputs": [
    {
     "data": {
      "text/plain": [
       "False"
      ]
     },
     "execution_count": 13,
     "metadata": {},
     "output_type": "execute_result"
    }
   ],
   "source": [
    "marathon_data.isnull().values.any()\n"
   ]
  },
  {
   "cell_type": "code",
   "execution_count": 14,
   "metadata": {},
   "outputs": [
    {
     "data": {
      "text/plain": [
       "25k          object\n",
       "age           int64\n",
       "division      int64\n",
       "10k          object\n",
       "gender        int32\n",
       "half         object\n",
       "official    float64\n",
       "overall       int64\n",
       "pace        float64\n",
       "30k          object\n",
       "5k           object\n",
       "20k          object\n",
       "35k          object\n",
       "40k          object\n",
       "dtype: object"
      ]
     },
     "execution_count": 14,
     "metadata": {},
     "output_type": "execute_result"
    }
   ],
   "source": [
    "#Checking out the remaining columns\n",
    "\n",
    "marathon_data.dtypes"
   ]
  },
  {
   "cell_type": "code",
   "execution_count": 15,
   "metadata": {},
   "outputs": [],
   "source": [
    "#Changing columns to floats\n",
    "\n",
    "number_columns = marathon_data.columns"
   ]
  },
  {
   "cell_type": "code",
   "execution_count": 16,
   "metadata": {},
   "outputs": [
    {
     "name": "stdout",
     "output_type": "stream",
     "text": [
      "25k         float64\n",
      "age         float64\n",
      "division    float64\n",
      "10k         float64\n",
      "gender      float64\n",
      "half        float64\n",
      "official    float64\n",
      "overall     float64\n",
      "pace        float64\n",
      "30k         float64\n",
      "5k          float64\n",
      "20k         float64\n",
      "35k         float64\n",
      "40k         float64\n",
      "dtype: object\n"
     ]
    }
   ],
   "source": [
    "marathon_data[number_columns] = marathon_data[number_columns].apply(pd.to_numeric, errors = 'coerce', axis=1)\n",
    "print(marathon_data.dtypes)"
   ]
  },
  {
   "cell_type": "code",
   "execution_count": 17,
   "metadata": {},
   "outputs": [
    {
     "data": {
      "text/plain": [
       "True"
      ]
     },
     "execution_count": 17,
     "metadata": {},
     "output_type": "execute_result"
    }
   ],
   "source": [
    "marathon_data.isnull().values.any()"
   ]
  },
  {
   "cell_type": "code",
   "execution_count": 18,
   "metadata": {},
   "outputs": [],
   "source": [
    "#dropping any NA values\n",
    "marathon_data.dropna(inplace=True)"
   ]
  },
  {
   "cell_type": "code",
   "execution_count": 19,
   "metadata": {},
   "outputs": [
    {
     "data": {
      "text/plain": [
       "(16054, 14)"
      ]
     },
     "execution_count": 19,
     "metadata": {},
     "output_type": "execute_result"
    }
   ],
   "source": [
    "marathon_data.shape"
   ]
  },
  {
   "cell_type": "code",
   "execution_count": 20,
   "metadata": {},
   "outputs": [
    {
     "data": {
      "text/plain": [
       "208.1594886009717"
      ]
     },
     "execution_count": 20,
     "metadata": {},
     "output_type": "execute_result"
    }
   ],
   "source": [
    "marathon_data['official'].mean()"
   ]
  },
  {
   "cell_type": "code",
   "execution_count": 21,
   "metadata": {},
   "outputs": [],
   "source": [
    "from sklearn.cluster import KMeans\n",
    "from sklearn.preprocessing import normalize\n",
    "from sklearn.model_selection import train_test_split\n",
    "from sklearn.decomposition import PCA\n",
    "# Make sure the number of rows divides evenly into four samples.\n",
    "rows = marathon_data.shape[0] - marathon_data.shape[0] % 4\n",
    "marathon_data = marathon_data.iloc[:rows, :]\n",
    "\n",
    "X = marathon_data\n",
    "# Normalize\n",
    "X_norm = normalize(X)\n",
    "\n",
    "# Data frame to store features and predicted cluster memberships.\n",
    "ypred = pd.DataFrame()\n",
    "\n",
    "# Create the two-feature PCA for graphing purposes.\n",
    "pca = PCA(n_components=2)\n",
    "X_pca = pca.fit_transform(X_norm)\n",
    "\n",
    "# Split the data into four equally-sized samples. First we break it in half:\n",
    "X_half1, X_half2, X_pcahalf1, X_pcahalf2 = train_test_split(\n",
    "    X_norm,\n",
    "    X_pca,\n",
    "    test_size=0.5,\n",
    "    random_state=42)\n",
    "\n",
    "# Then we halve the halves.\n",
    "X1, X2, X_pca1, X_pca2 = train_test_split(\n",
    "    X_half1,\n",
    "    X_pcahalf1,\n",
    "    test_size=0.5,\n",
    "    random_state=42)\n",
    "X3, X4, X_pca3, X_pca4 = train_test_split(\n",
    "    X_half2,\n",
    "    X_pcahalf2,\n",
    "    test_size=0.5,\n",
    "    random_state=42)\n",
    "\n",
    "# Pass a list of tuples and a counter that increments each time we go\n",
    "# through the loop. The tuples are the data to be used by k-means,\n",
    "# and the PCA-derived features for graphing. We use k-means to fit a\n",
    "# model to the data, then store the predicted values and the two-feature\n",
    "# PCA solution in the data frame.\n",
    "for counter, data in enumerate([\n",
    "    (X1, X_pca1),\n",
    "    (X2, X_pca2),\n",
    "    (X3, X_pca3),\n",
    "    (X4, X_pca4)]):\n",
    "    \n",
    "    # Put the features into ypred.\n",
    "    ypred['pca_f1' + '_sample' + str(counter)] = data[1][:, 0]\n",
    "    ypred['pca_f2' + '_sample' + str(counter)] = data[1][:, 1]\n",
    "    \n",
    "    # Generate cluster predictions and store them for clusters 2 to 4.\n",
    "    for nclust in range(2, 5):\n",
    "        pred = KMeans(n_clusters=nclust, random_state=42).fit_predict(data[0])\n",
    "        ypred['clust' + str(nclust) + '_sample' + str(counter)] = pred"
   ]
  },
  {
   "cell_type": "code",
   "execution_count": 22,
   "metadata": {},
   "outputs": [
    {
     "data": {
      "image/png": "[encoded data removed]",
      "text/plain": [
       "<Figure size 432x288 with 4 Axes>"
      ]
     },
     "metadata": {},
     "output_type": "display_data"
    },
    {
     "name": "stdout",
     "output_type": "stream",
     "text": [
      "\n",
      "\n"
     ]
    },
    {
     "data": {
      "image/png": "[encoded data removed]",
      "text/plain": [
       "<Figure size 432x288 with 4 Axes>"
      ]
     },
     "metadata": {},
     "output_type": "display_data"
    },
    {
     "name": "stdout",
     "output_type": "stream",
     "text": [
      "\n",
      "\n"
     ]
    },
    {
     "data": {
      "image/png": "[encoded data removed]",
      "text/plain": [
       "<Figure size 432x288 with 4 Axes>"
      ]
     },
     "metadata": {},
     "output_type": "display_data"
    },
    {
     "name": "stdout",
     "output_type": "stream",
     "text": [
      "\n",
      "\n"
     ]
    }
   ],
   "source": [
    "# For each  number of clusters, plot the clusters using the\n",
    "# pca features for each sample.\n",
    "for cluster in range(2, 5):\n",
    "    \n",
    "    # Make a grid of subplots.\n",
    "    f, axarr = plt.subplots(2, 2)\n",
    "    \n",
    "    # Make a plot for each sample.\n",
    "    for i in range(4):\n",
    "        \n",
    "        # PCA-created features.\n",
    "        x_sub = ypred['pca_f1_sample{}'.format(i)]\n",
    "        y_sub = ypred['pca_f2_sample{}'.format(i)]\n",
    "        \n",
    "        # Cluster assignments.\n",
    "        c = ypred['clust{}_sample{}'.format(cluster, i)]\n",
    "        \n",
    "        # Assign the subplot to its place on the grid.\n",
    "        rows = int(np.floor(i / 2))\n",
    "        cols = i % 2\n",
    "        axarr[rows, cols].scatter(x_sub, y_sub, c=c)\n",
    "        axarr[rows, cols].set_title('sample {}'.format(i))\n",
    "        axarr[rows, cols].set_xlim([-.3, .3])\n",
    "        axarr[rows, cols].set_ylim([-.3, .3])\n",
    "    \n",
    "    # Space out the plots so that the headings don't overlap axis values.\n",
    "    plt.suptitle('{} Clusters'.format(cluster), fontsize=20)\n",
    "    plt.tight_layout()\n",
    "    plt.show()\n",
    "    print('\\n')"
   ]
  },
  {
   "cell_type": "code",
   "execution_count": 45,
   "metadata": {},
   "outputs": [
    {
     "name": "stdout",
     "output_type": "stream",
     "text": [
      "0.5168385250865526\n",
      "0.5159835441485352\n",
      "0.4997702643870874\n",
      "0.5206516759515645\n"
     ]
    }
   ],
   "source": [
    "from sklearn import metrics\n",
    "from sklearn.metrics import pairwise_distances\n",
    "\n",
    "for sample in [X1, X2, X3, X4]:\n",
    "    model = KMeans(n_clusters=10, random_state=42).fit(sample)\n",
    "    labels = model.labels_\n",
    "    print(metrics.silhouette_score(sample, labels, metric='euclidean'))"
   ]
  },
  {
   "cell_type": "code",
   "execution_count": 46,
   "metadata": {},
   "outputs": [
    {
     "name": "stdout",
     "output_type": "stream",
     "text": [
      "0\n",
      "               25k          age     division          10k       gender  \\\n",
      "count  2036.000000  2036.000000  2036.000000  2036.000000  2036.000000   \n",
      "mean    112.266793    40.312377   960.487721    44.645373     0.722495   \n",
      "std       3.781909     9.348805   868.745590     1.822431     0.447878   \n",
      "min      92.480000    19.000000     1.000000    35.930000     0.000000   \n",
      "25%     110.030000    33.000000   401.000000    43.520000     0.000000   \n",
      "50%     112.650000    41.000000   657.000000    44.790000     1.000000   \n",
      "75%     114.985000    47.000000   964.500000    45.900000     1.000000   \n",
      "max     122.150000    73.000000  2788.000000    50.530000     1.000000   \n",
      "\n",
      "              half     official      overall         pace          30k  \\\n",
      "count  2036.000000  2036.000000  2036.000000  2036.000000  2036.000000   \n",
      "mean     94.417245   196.642146  5096.147839     7.508070   136.012618   \n",
      "std       3.433711     2.795909   610.776446     0.106889     3.940242   \n",
      "min      76.880000   191.500000  4023.000000     7.320000   115.050000   \n",
      "25%      92.327500   194.180000  4570.750000     7.420000   133.700000   \n",
      "50%      94.710000   196.825000  5095.500000     7.520000   136.425000   \n",
      "75%      96.850000   199.120000  5622.250000     7.600000   138.800000   \n",
      "max     103.130000   201.300000  6168.000000     7.680000   146.230000   \n",
      "\n",
      "                5k          20k          35k          40k  clusters  \n",
      "count  2036.000000  2036.000000  2036.000000  2036.000000    2036.0  \n",
      "mean     22.427687    89.510472   160.678929   185.649150       0.0  \n",
      "std       0.966543     3.295673     3.562591     2.842101       0.0  \n",
      "min      17.950000    72.900000   145.330000   171.430000       0.0  \n",
      "25%      21.850000    87.480000   158.480000   183.380000       0.0  \n",
      "50%      22.480000    89.775000   160.890000   185.750000       0.0  \n",
      "75%      23.080000    91.830000   163.280000   187.985000       0.0  \n",
      "max      25.770000    97.820000   168.570000   191.350000       0.0  \n",
      "1\n",
      "              25k         age     division         10k      gender  \\\n",
      "count  992.000000  992.000000   992.000000  992.000000  992.000000   \n",
      "mean   125.994435   33.338710  2668.175403   49.631109    0.184476   \n",
      "std      5.044815    6.047591   436.782031    2.532304    0.388067   \n",
      "min    100.200000   18.000000  1483.000000   37.850000    0.000000   \n",
      "25%    123.707500   29.000000  2418.750000   48.380000    0.000000   \n",
      "50%    126.740000   34.000000  2694.500000   50.025000    0.000000   \n",
      "75%    129.330000   37.250000  2971.250000   51.335000    0.000000   \n",
      "max    138.720000   49.000000  3476.000000   56.730000    1.000000   \n",
      "\n",
      "             half    official       overall        pace         30k  \\\n",
      "count  992.000000  992.000000    992.000000  992.000000  992.000000   \n",
      "mean   105.584093  223.649103  12233.690524    8.538367  153.495323   \n",
      "std      4.700113    3.652926    956.810478    0.139728    5.153645   \n",
      "min     82.970000  216.330000  10199.000000    8.270000  125.470000   \n",
      "25%    103.522500  220.480000  11421.750000    8.420000  151.230000   \n",
      "50%    106.325000  223.710000  12274.000000    8.530000  154.130000   \n",
      "75%    108.670000  226.285000  12930.000000    8.630000  156.772500   \n",
      "max    119.230000  231.000000  14069.000000    8.820000  174.520000   \n",
      "\n",
      "               5k         20k         35k         40k  clusters  \n",
      "count  992.000000  992.000000  992.000000  992.000000     992.0  \n",
      "mean    24.869929  100.049738  182.204556  211.204224       1.0  \n",
      "std      1.346960    4.528483    4.532869    3.580997       0.0  \n",
      "min     18.650000   78.530000  153.970000  197.350000       1.0  \n",
      "25%     24.200000   98.045000  179.965000  208.445000       1.0  \n",
      "50%     25.070000  100.780000  182.530000  210.910000       1.0  \n",
      "75%     25.730000  103.027500  185.090000  213.657500       1.0  \n",
      "max     29.750000  113.930000  197.070000  220.800000       1.0  \n"
     ]
    }
   ],
   "source": [
    "\n",
    "cluster_pred  = KMeans(n_clusters=10, random_state=42).fit_predict(X)\n",
    "X_pred = X.copy()\n",
    "X_pred['clusters'] = cluster_pred\n",
    "\n",
    "cluster_dataframes = {}\n",
    "for n_clust in range(2):\n",
    "    cluster_dataframes[n_clust] = X_pred.loc[X_pred['clusters'] == n_clust]\n",
    "\n",
    "for name, frame in cluster_dataframes.items():\n",
    "    print(name)\n",
    "    print(frame.describe())"
   ]
  },
  {
   "cell_type": "code",
   "execution_count": 47,
   "metadata": {},
   "outputs": [
    {
     "name": "stdout",
     "output_type": "stream",
     "text": [
      "   clusters         25k        age     division        10k    gender  \\\n",
      "0         0  112.266793  40.312377   960.487721  44.645373  0.722495   \n",
      "1         1  125.994435  33.338710  2668.175403  49.631109  0.184476   \n",
      "2         2   97.386509  34.736280   438.345020  38.776184  0.945122   \n",
      "3         3  125.573358  49.562174   642.118392  49.665689  0.523455   \n",
      "4         4  135.610227  51.683367   874.204409  52.765551  0.461590   \n",
      "5         5  121.718254  40.884080  1270.105970  48.235378  0.432338   \n",
      "6         6  106.626968  37.746667  1046.720988  42.505215  0.887901   \n",
      "7         7  132.685875  32.414125  3516.197432  51.391429  0.155698   \n",
      "8         8  117.591451  41.852483   993.311587  46.700316  0.599805   \n",
      "9         9  130.254960  50.597739   744.650931  51.276237  0.467420   \n",
      "\n",
      "         half    official       overall      pace         30k         5k  \\\n",
      "0   94.417245  196.642146   5096.147839  7.508070  136.012618  22.427687   \n",
      "1  105.584093  223.649103  12233.690524  8.538367  153.495323  24.869929   \n",
      "2   82.049075  168.211504    970.775407  6.423643  117.625513  19.444502   \n",
      "3  105.444341  220.941958  11518.292628  8.434996  152.492934  24.903693   \n",
      "4  113.185571  244.740140  16460.138277  9.342759  166.088170  26.311910   \n",
      "5  102.258234  213.436353   9395.466169  8.149005  147.675194  24.190955   \n",
      "6   89.783486  185.669709   2996.464198  7.089363  128.955694  21.359002   \n",
      "7  110.438539  242.239149  15928.412520  9.247079  163.087608  25.616340   \n",
      "8   98.891144  205.490180   7230.863194  7.845346  142.473827  23.423262   \n",
      "9  109.194694  230.694634  13994.935505  8.807008  158.564594  25.671516   \n",
      "\n",
      "          20k         35k         40k  \n",
      "0   89.510472  160.678929  185.649150  \n",
      "1  100.049738  182.204556  211.204224  \n",
      "2   77.811214  138.309710  159.015401  \n",
      "3   99.939062  180.510179  208.605272  \n",
      "4  107.207715  198.446620  230.800842  \n",
      "5   96.926891  174.633408  201.639910  \n",
      "6   85.132514  151.989822  175.342820  \n",
      "7  104.561011  195.463210  228.613756  \n",
      "8   93.745375  168.212303  194.137882  \n",
      "9  103.479914  188.150426  217.785086  \n"
     ]
    }
   ],
   "source": [
    "boston_avg = X_pred.groupby(['clusters'], as_index=False).mean()\n",
    "print(boston_avg)"
   ]
  },
  {
   "cell_type": "code",
   "execution_count": 49,
   "metadata": {},
   "outputs": [
    {
     "data": {
      "text/html": [
       "<div>\n",
       "<style scoped>\n",
       "    .dataframe tbody tr th:only-of-type {\n",
       "        vertical-align: middle;\n",
       "    }\n",
       "\n",
       "    .dataframe tbody tr th {\n",
       "        vertical-align: top;\n",
       "    }\n",
       "\n",
       "    .dataframe thead th {\n",
       "        text-align: right;\n",
       "    }\n",
       "</style>\n",
       "<table border=\"1\" class=\"dataframe\">\n",
       "  <thead>\n",
       "    <tr style=\"text-align: right;\">\n",
       "      <th></th>\n",
       "      <th>clusters</th>\n",
       "      <th>25k</th>\n",
       "      <th>age</th>\n",
       "      <th>division</th>\n",
       "      <th>10k</th>\n",
       "      <th>gender</th>\n",
       "      <th>half</th>\n",
       "      <th>official</th>\n",
       "      <th>overall</th>\n",
       "      <th>pace</th>\n",
       "      <th>30k</th>\n",
       "      <th>5k</th>\n",
       "      <th>20k</th>\n",
       "      <th>35k</th>\n",
       "      <th>40k</th>\n",
       "    </tr>\n",
       "  </thead>\n",
       "  <tbody>\n",
       "    <tr>\n",
       "      <th>2</th>\n",
       "      <td>2</td>\n",
       "      <td>97.386509</td>\n",
       "      <td>34.736280</td>\n",
       "      <td>438.345020</td>\n",
       "      <td>38.776184</td>\n",
       "      <td>0.945122</td>\n",
       "      <td>82.049075</td>\n",
       "      <td>168.211504</td>\n",
       "      <td>970.775407</td>\n",
       "      <td>6.423643</td>\n",
       "      <td>117.625513</td>\n",
       "      <td>19.444502</td>\n",
       "      <td>77.811214</td>\n",
       "      <td>138.309710</td>\n",
       "      <td>159.015401</td>\n",
       "    </tr>\n",
       "    <tr>\n",
       "      <th>6</th>\n",
       "      <td>6</td>\n",
       "      <td>106.626968</td>\n",
       "      <td>37.746667</td>\n",
       "      <td>1046.720988</td>\n",
       "      <td>42.505215</td>\n",
       "      <td>0.887901</td>\n",
       "      <td>89.783486</td>\n",
       "      <td>185.669709</td>\n",
       "      <td>2996.464198</td>\n",
       "      <td>7.089363</td>\n",
       "      <td>128.955694</td>\n",
       "      <td>21.359002</td>\n",
       "      <td>85.132514</td>\n",
       "      <td>151.989822</td>\n",
       "      <td>175.342820</td>\n",
       "    </tr>\n",
       "    <tr>\n",
       "      <th>0</th>\n",
       "      <td>0</td>\n",
       "      <td>112.266793</td>\n",
       "      <td>40.312377</td>\n",
       "      <td>960.487721</td>\n",
       "      <td>44.645373</td>\n",
       "      <td>0.722495</td>\n",
       "      <td>94.417245</td>\n",
       "      <td>196.642146</td>\n",
       "      <td>5096.147839</td>\n",
       "      <td>7.508070</td>\n",
       "      <td>136.012618</td>\n",
       "      <td>22.427687</td>\n",
       "      <td>89.510472</td>\n",
       "      <td>160.678929</td>\n",
       "      <td>185.649150</td>\n",
       "    </tr>\n",
       "    <tr>\n",
       "      <th>8</th>\n",
       "      <td>8</td>\n",
       "      <td>117.591451</td>\n",
       "      <td>41.852483</td>\n",
       "      <td>993.311587</td>\n",
       "      <td>46.700316</td>\n",
       "      <td>0.599805</td>\n",
       "      <td>98.891144</td>\n",
       "      <td>205.490180</td>\n",
       "      <td>7230.863194</td>\n",
       "      <td>7.845346</td>\n",
       "      <td>142.473827</td>\n",
       "      <td>23.423262</td>\n",
       "      <td>93.745375</td>\n",
       "      <td>168.212303</td>\n",
       "      <td>194.137882</td>\n",
       "    </tr>\n",
       "    <tr>\n",
       "      <th>5</th>\n",
       "      <td>5</td>\n",
       "      <td>121.718254</td>\n",
       "      <td>40.884080</td>\n",
       "      <td>1270.105970</td>\n",
       "      <td>48.235378</td>\n",
       "      <td>0.432338</td>\n",
       "      <td>102.258234</td>\n",
       "      <td>213.436353</td>\n",
       "      <td>9395.466169</td>\n",
       "      <td>8.149005</td>\n",
       "      <td>147.675194</td>\n",
       "      <td>24.190955</td>\n",
       "      <td>96.926891</td>\n",
       "      <td>174.633408</td>\n",
       "      <td>201.639910</td>\n",
       "    </tr>\n",
       "    <tr>\n",
       "      <th>3</th>\n",
       "      <td>3</td>\n",
       "      <td>125.573358</td>\n",
       "      <td>49.562174</td>\n",
       "      <td>642.118392</td>\n",
       "      <td>49.665689</td>\n",
       "      <td>0.523455</td>\n",
       "      <td>105.444341</td>\n",
       "      <td>220.941958</td>\n",
       "      <td>11518.292628</td>\n",
       "      <td>8.434996</td>\n",
       "      <td>152.492934</td>\n",
       "      <td>24.903693</td>\n",
       "      <td>99.939062</td>\n",
       "      <td>180.510179</td>\n",
       "      <td>208.605272</td>\n",
       "    </tr>\n",
       "    <tr>\n",
       "      <th>1</th>\n",
       "      <td>1</td>\n",
       "      <td>125.994435</td>\n",
       "      <td>33.338710</td>\n",
       "      <td>2668.175403</td>\n",
       "      <td>49.631109</td>\n",
       "      <td>0.184476</td>\n",
       "      <td>105.584093</td>\n",
       "      <td>223.649103</td>\n",
       "      <td>12233.690524</td>\n",
       "      <td>8.538367</td>\n",
       "      <td>153.495323</td>\n",
       "      <td>24.869929</td>\n",
       "      <td>100.049738</td>\n",
       "      <td>182.204556</td>\n",
       "      <td>211.204224</td>\n",
       "    </tr>\n",
       "    <tr>\n",
       "      <th>9</th>\n",
       "      <td>9</td>\n",
       "      <td>130.254960</td>\n",
       "      <td>50.597739</td>\n",
       "      <td>744.650931</td>\n",
       "      <td>51.276237</td>\n",
       "      <td>0.467420</td>\n",
       "      <td>109.194694</td>\n",
       "      <td>230.694634</td>\n",
       "      <td>13994.935505</td>\n",
       "      <td>8.807008</td>\n",
       "      <td>158.564594</td>\n",
       "      <td>25.671516</td>\n",
       "      <td>103.479914</td>\n",
       "      <td>188.150426</td>\n",
       "      <td>217.785086</td>\n",
       "    </tr>\n",
       "    <tr>\n",
       "      <th>7</th>\n",
       "      <td>7</td>\n",
       "      <td>132.685875</td>\n",
       "      <td>32.414125</td>\n",
       "      <td>3516.197432</td>\n",
       "      <td>51.391429</td>\n",
       "      <td>0.155698</td>\n",
       "      <td>110.438539</td>\n",
       "      <td>242.239149</td>\n",
       "      <td>15928.412520</td>\n",
       "      <td>9.247079</td>\n",
       "      <td>163.087608</td>\n",
       "      <td>25.616340</td>\n",
       "      <td>104.561011</td>\n",
       "      <td>195.463210</td>\n",
       "      <td>228.613756</td>\n",
       "    </tr>\n",
       "    <tr>\n",
       "      <th>4</th>\n",
       "      <td>4</td>\n",
       "      <td>135.610227</td>\n",
       "      <td>51.683367</td>\n",
       "      <td>874.204409</td>\n",
       "      <td>52.765551</td>\n",
       "      <td>0.461590</td>\n",
       "      <td>113.185571</td>\n",
       "      <td>244.740140</td>\n",
       "      <td>16460.138277</td>\n",
       "      <td>9.342759</td>\n",
       "      <td>166.088170</td>\n",
       "      <td>26.311910</td>\n",
       "      <td>107.207715</td>\n",
       "      <td>198.446620</td>\n",
       "      <td>230.800842</td>\n",
       "    </tr>\n",
       "  </tbody>\n",
       "</table>\n",
       "</div>"
      ],
      "text/plain": [
       "   clusters         25k        age     division        10k    gender  \\\n",
       "2         2   97.386509  34.736280   438.345020  38.776184  0.945122   \n",
       "6         6  106.626968  37.746667  1046.720988  42.505215  0.887901   \n",
       "0         0  112.266793  40.312377   960.487721  44.645373  0.722495   \n",
       "8         8  117.591451  41.852483   993.311587  46.700316  0.599805   \n",
       "5         5  121.718254  40.884080  1270.105970  48.235378  0.432338   \n",
       "3         3  125.573358  49.562174   642.118392  49.665689  0.523455   \n",
       "1         1  125.994435  33.338710  2668.175403  49.631109  0.184476   \n",
       "9         9  130.254960  50.597739   744.650931  51.276237  0.467420   \n",
       "7         7  132.685875  32.414125  3516.197432  51.391429  0.155698   \n",
       "4         4  135.610227  51.683367   874.204409  52.765551  0.461590   \n",
       "\n",
       "         half    official       overall      pace         30k         5k  \\\n",
       "2   82.049075  168.211504    970.775407  6.423643  117.625513  19.444502   \n",
       "6   89.783486  185.669709   2996.464198  7.089363  128.955694  21.359002   \n",
       "0   94.417245  196.642146   5096.147839  7.508070  136.012618  22.427687   \n",
       "8   98.891144  205.490180   7230.863194  7.845346  142.473827  23.423262   \n",
       "5  102.258234  213.436353   9395.466169  8.149005  147.675194  24.190955   \n",
       "3  105.444341  220.941958  11518.292628  8.434996  152.492934  24.903693   \n",
       "1  105.584093  223.649103  12233.690524  8.538367  153.495323  24.869929   \n",
       "9  109.194694  230.694634  13994.935505  8.807008  158.564594  25.671516   \n",
       "7  110.438539  242.239149  15928.412520  9.247079  163.087608  25.616340   \n",
       "4  113.185571  244.740140  16460.138277  9.342759  166.088170  26.311910   \n",
       "\n",
       "          20k         35k         40k  \n",
       "2   77.811214  138.309710  159.015401  \n",
       "6   85.132514  151.989822  175.342820  \n",
       "0   89.510472  160.678929  185.649150  \n",
       "8   93.745375  168.212303  194.137882  \n",
       "5   96.926891  174.633408  201.639910  \n",
       "3   99.939062  180.510179  208.605272  \n",
       "1  100.049738  182.204556  211.204224  \n",
       "9  103.479914  188.150426  217.785086  \n",
       "7  104.561011  195.463210  228.613756  \n",
       "4  107.207715  198.446620  230.800842  "
      ]
     },
     "execution_count": 49,
     "metadata": {},
     "output_type": "execute_result"
    }
   ],
   "source": [
    "boston_avg.sort_values(by='pace')"
   ]
  },
  {
   "cell_type": "code",
   "execution_count": null,
   "metadata": {},
   "outputs": [],
   "source": []
  }
 ],
 "metadata": {
  "kernelspec": {
   "display_name": "Python 3",
   "language": "python",
   "name": "python3"
  },
  "language_info": {
   "codemirror_mode": {
    "name": "ipython",
    "version": 3
   },
   "file_extension": ".py",
   "mimetype": "text/x-python",
   "name": "python",
   "nbconvert_exporter": "python",
   "pygments_lexer": "ipython3",
   "version": "3.6.5"
  }
 },
 "nbformat": 4,
 "nbformat_minor": 2
}
