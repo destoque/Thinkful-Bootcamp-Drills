{
 "cells": [
  {
   "cell_type": "code",
   "execution_count": 1,
   "metadata": {},
   "outputs": [
    {
     "name": "stdout",
     "output_type": "stream",
     "text": [
      "120\n",
      "240\n",
      "360\n",
      "Success!\n"
     ]
    }
   ],
   "source": [
    "import scrapy\n",
    "from scrapy.crawler import CrawlerProcess\n",
    "\n",
    "class ClistSpider(scrapy.Spider):\n",
    "    name = \"WS\"\n",
    "    \n",
    "    # Here is where we insert our scraper.\n",
    "    start_urls = [\n",
    "        'https://sandiego.craigslist.org/search/sss?query=bike&sort=rel'\n",
    "        ]\n",
    "\n",
    "    # Identifying the information we want from the query response and extracting it using xpath.\n",
    "    def parse(self, response):\n",
    "        for res in response.xpath('//*[@id=\"sortable-results\"]/ul/li'):\n",
    "\n",
    "            # Yield a dictionary with the values we want.\n",
    "            yield {\n",
    "                'title': res.xpath('*/a[@class=\"result-title hdrlnk\"]/text()').extract_first(),\n",
    "                'price': res.xpath('*/span[@class=\"result-price\"]/text()').extract_first(),\n",
    "                'url': res.xpath('*/a[@class=\"result-title hdrlnk\"]/@href').extract_first()\n",
    "            }\n",
    "        # Get the URL of the previous page.\n",
    "        next_page = response.xpath('//*[@id=\"searchform\"]/div[3]/div[3]/span[2]/a[3]/@href').extract_first()\n",
    "        \n",
    "        # There are a LOT of pages here.  For our example, we'll just scrape the first 9.\n",
    "        # This finds the page number. The next segment of code prevents us from going beyond page 9.\n",
    "        pagenum = int(response.xpath('//*[@id=\"searchform\"]/div[3]/div[3]/span[2]/span[3]/span[1]/span[2]/text()').extract_first())\n",
    "        print(pagenum)\n",
    "        \n",
    "        # Recursively call the spider to run on the next page, if it exists.\n",
    "        if next_page is not None and pagenum < 360:\n",
    "            next_page = response.urljoin(next_page)\n",
    "            # Request the next page and recursively parse it the same way we did above\n",
    "            yield scrapy.Request(next_page, callback=self.parse)\n",
    "\n",
    "# Tell the script how to run the crawler by passing in settings.\n",
    "# The new settings have to do with scraping etiquette.          \n",
    "process = CrawlerProcess({\n",
    "    'FEED_FORMAT': 'json',         # Store data in JSON format.\n",
    "    'FEED_URI': 'bikecraigslist.json',       # Name our storage file.\n",
    "    'LOG_ENABLED': False,          # Turn off logging for now.\n",
    "    'ROBOTSTXT_OBEY': True,\n",
    "    'USER_AGENT': 'ThinkfulDataScienceBootcampCrawler (thinkful.com)',\n",
    "    'AUTOTHROTTLE_ENABLED': True,\n",
    "    'HTTPCACHE_ENABLED': True\n",
    "})\n",
    "\n",
    "# Start the crawler with our spider.\n",
    "process.crawl(ClistSpider)\n",
    "process.start()\n",
    "print('Success!')"
   ]
  },
  {
   "cell_type": "code",
   "execution_count": 3,
   "metadata": {},
   "outputs": [
    {
     "name": "stdout",
     "output_type": "stream",
     "text": [
      "(360, 3)\n",
      "    price                                              title  \\\n",
      "355  $200          Men's Shogun Chromoly 200 Road Bike 52 cm   \n",
      "356  $260                      Sunny Health Indoor Spin Bike   \n",
      "357  $500                                     X-Treme e-bike   \n",
      "358  None  TREK BIKE NAVIGATOR 14.5 INCH BLACK $175 18 IN...   \n",
      "359  $170  Giant Hybrid Commuter / Trail bike, Like New c...   \n",
      "\n",
      "                                                   url  \n",
      "355  https://sandiego.craigslist.org/nsd/bik/d/mens...  \n",
      "356  https://sandiego.craigslist.org/csd/spo/d/sunn...  \n",
      "357  https://sandiego.craigslist.org/csd/bik/d/trem...  \n",
      "358  https://sandiego.craigslist.org/nsd/for/d/trek...  \n",
      "359  https://sandiego.craigslist.org/csd/bik/d/gian...  \n"
     ]
    }
   ],
   "source": [
    "import pandas as pd\n",
    "\n",
    "# Checking whether we got data \n",
    "\n",
    "data= pd.read_json('bikecraigslist.json')\n",
    "print(data.shape)\n",
    "print(data.tail())"
   ]
  },
  {
   "cell_type": "code",
   "execution_count": 4,
   "metadata": {},
   "outputs": [
    {
     "data": {
      "text/html": [
       "<div>\n",
       "<style scoped>\n",
       "    .dataframe tbody tr th:only-of-type {\n",
       "        vertical-align: middle;\n",
       "    }\n",
       "\n",
       "    .dataframe tbody tr th {\n",
       "        vertical-align: top;\n",
       "    }\n",
       "\n",
       "    .dataframe thead th {\n",
       "        text-align: right;\n",
       "    }\n",
       "</style>\n",
       "<table border=\"1\" class=\"dataframe\">\n",
       "  <thead>\n",
       "    <tr style=\"text-align: right;\">\n",
       "      <th></th>\n",
       "      <th>price</th>\n",
       "      <th>title</th>\n",
       "      <th>url</th>\n",
       "    </tr>\n",
       "  </thead>\n",
       "  <tbody>\n",
       "    <tr>\n",
       "      <th>0</th>\n",
       "      <td>$220</td>\n",
       "      <td>1969 Schwinn Varsity Sport Road Bike 57cm</td>\n",
       "      <td>https://sandiego.craigslist.org/ssd/bik/d/1969...</td>\n",
       "    </tr>\n",
       "    <tr>\n",
       "      <th>1</th>\n",
       "      <td>$60</td>\n",
       "      <td>Bauer/Brievo Tow Hitch Mount - 2 Bike Rack Holder</td>\n",
       "      <td>https://sandiego.craigslist.org/esd/bop/d/baue...</td>\n",
       "    </tr>\n",
       "    <tr>\n",
       "      <th>2</th>\n",
       "      <td>$60</td>\n",
       "      <td>20 in Huffy Mt Bike - Brand New - Youth</td>\n",
       "      <td>https://sandiego.craigslist.org/esd/bik/d/20-i...</td>\n",
       "    </tr>\n",
       "    <tr>\n",
       "      <th>3</th>\n",
       "      <td>None</td>\n",
       "      <td>Motorized bike 4 trade brandnew 185mpg 2 avail...</td>\n",
       "      <td>https://sandiego.craigslist.org/csd/bar/d/moto...</td>\n",
       "    </tr>\n",
       "    <tr>\n",
       "      <th>4</th>\n",
       "      <td>$260</td>\n",
       "      <td>Men's Vintage Fuji Cadenza Chrome Mountain Bik...</td>\n",
       "      <td>https://sandiego.craigslist.org/nsd/bik/d/mens...</td>\n",
       "    </tr>\n",
       "  </tbody>\n",
       "</table>\n",
       "</div>"
      ],
      "text/plain": [
       "  price                                              title  \\\n",
       "0  $220          1969 Schwinn Varsity Sport Road Bike 57cm   \n",
       "1   $60  Bauer/Brievo Tow Hitch Mount - 2 Bike Rack Holder   \n",
       "2   $60            20 in Huffy Mt Bike - Brand New - Youth   \n",
       "3  None  Motorized bike 4 trade brandnew 185mpg 2 avail...   \n",
       "4  $260  Men's Vintage Fuji Cadenza Chrome Mountain Bik...   \n",
       "\n",
       "                                                 url  \n",
       "0  https://sandiego.craigslist.org/ssd/bik/d/1969...  \n",
       "1  https://sandiego.craigslist.org/esd/bop/d/baue...  \n",
       "2  https://sandiego.craigslist.org/esd/bik/d/20-i...  \n",
       "3  https://sandiego.craigslist.org/csd/bar/d/moto...  \n",
       "4  https://sandiego.craigslist.org/nsd/bik/d/mens...  "
      ]
     },
     "execution_count": 4,
     "metadata": {},
     "output_type": "execute_result"
    }
   ],
   "source": [
    "data.head()"
   ]
  },
  {
   "cell_type": "code",
   "execution_count": 6,
   "metadata": {},
   "outputs": [
    {
     "data": {
      "text/plain": [
       "(360, 3)"
      ]
     },
     "execution_count": 6,
     "metadata": {},
     "output_type": "execute_result"
    }
   ],
   "source": [
    "data.shape"
   ]
  },
  {
   "cell_type": "code",
   "execution_count": 8,
   "metadata": {},
   "outputs": [
    {
     "data": {
      "text/html": [
       "<div>\n",
       "<style scoped>\n",
       "    .dataframe tbody tr th:only-of-type {\n",
       "        vertical-align: middle;\n",
       "    }\n",
       "\n",
       "    .dataframe tbody tr th {\n",
       "        vertical-align: top;\n",
       "    }\n",
       "\n",
       "    .dataframe thead th {\n",
       "        text-align: right;\n",
       "    }\n",
       "</style>\n",
       "<table border=\"1\" class=\"dataframe\">\n",
       "  <thead>\n",
       "    <tr style=\"text-align: right;\">\n",
       "      <th></th>\n",
       "      <th>price</th>\n",
       "      <th>title</th>\n",
       "      <th>url</th>\n",
       "    </tr>\n",
       "  </thead>\n",
       "  <tbody>\n",
       "    <tr>\n",
       "      <th>count</th>\n",
       "      <td>335</td>\n",
       "      <td>360</td>\n",
       "      <td>360</td>\n",
       "    </tr>\n",
       "    <tr>\n",
       "      <th>unique</th>\n",
       "      <td>100</td>\n",
       "      <td>323</td>\n",
       "      <td>360</td>\n",
       "    </tr>\n",
       "    <tr>\n",
       "      <th>top</th>\n",
       "      <td>$100</td>\n",
       "      <td>Bike platform hitch rack carrier</td>\n",
       "      <td>https://sandiego.craigslist.org/csd/bik/d/56cm...</td>\n",
       "    </tr>\n",
       "    <tr>\n",
       "      <th>freq</th>\n",
       "      <td>20</td>\n",
       "      <td>6</td>\n",
       "      <td>1</td>\n",
       "    </tr>\n",
       "  </tbody>\n",
       "</table>\n",
       "</div>"
      ],
      "text/plain": [
       "       price                             title  \\\n",
       "count    335                               360   \n",
       "unique   100                               323   \n",
       "top     $100  Bike platform hitch rack carrier   \n",
       "freq      20                                 6   \n",
       "\n",
       "                                                      url  \n",
       "count                                                 360  \n",
       "unique                                                360  \n",
       "top     https://sandiego.craigslist.org/csd/bik/d/56cm...  \n",
       "freq                                                    1  "
      ]
     },
     "execution_count": 8,
     "metadata": {},
     "output_type": "execute_result"
    }
   ],
   "source": [
    "data.describe()"
   ]
  },
  {
   "cell_type": "code",
   "execution_count": null,
   "metadata": {},
   "outputs": [],
   "source": []
  }
 ],
 "metadata": {
  "kernelspec": {
   "display_name": "Python 3",
   "language": "python",
   "name": "python3"
  },
  "language_info": {
   "codemirror_mode": {
    "name": "ipython",
    "version": 3
   },
   "file_extension": ".py",
   "mimetype": "text/x-python",
   "name": "python",
   "nbconvert_exporter": "python",
   "pygments_lexer": "ipython3",
   "version": "3.6.5"
  }
 },
 "nbformat": 4,
 "nbformat_minor": 2
}
