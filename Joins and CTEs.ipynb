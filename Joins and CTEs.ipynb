{
 "cells": [
  {
   "cell_type": "markdown",
   "metadata": {},
   "source": [
    "What are the three longest trips on rainy days?"
   ]
  },
  {
   "cell_type": "code",
   "execution_count": null,
   "metadata": {},
   "outputs": [],
   "source": [
    "SELECT\n",
    "\tw.events,\n",
    "\tt.duration\n",
    "FROM\n",
    "\tweather w\n",
    "JOIN\n",
    "\ttrips t\n",
    "ON\n",
    "\tw.zip = t.zip_code\n",
    "WHERE \n",
    "\tw.events = 'Rain'\n",
    "ORDER BY 2 desc\n",
    "limit 3"
   ]
  },
  {
   "cell_type": "markdown",
   "metadata": {},
   "source": [
    "Which station is full most often?"
   ]
  },
  {
   "cell_type": "code",
   "execution_count": null,
   "metadata": {},
   "outputs": [],
   "source": [
    "SELECT\n",
    "status.station_id,\n",
    "stations.name,\n",
    "COUNT(CASE WHEN docks_available=0 then 'none available' END) no_bike\n",
    "FROM\n",
    "    status\n",
    "JOIN \n",
    "    stations\n",
    "on stations.station_id = status.station_id\n",
    "GROUP BY 1\n",
    "ORDER BY no_bike DESC"
   ]
  },
  {
   "cell_type": "markdown",
   "metadata": {},
   "source": [
    "Return a list of stations with a count of number of trips starting at that station but ordered by dock count."
   ]
  },
  {
   "cell_type": "code",
   "execution_count": null,
   "metadata": {},
   "outputs": [],
   "source": []
  },
  {
   "cell_type": "markdown",
   "metadata": {},
   "source": [
    "(Challenge) What's the length of the longest trip for each day it rains anywhere?"
   ]
  }
 ],
 "metadata": {
  "kernelspec": {
   "display_name": "Python 3",
   "language": "python",
   "name": "python3"
  },
  "language_info": {
   "codemirror_mode": {
    "name": "ipython",
    "version": 3
   },
   "file_extension": ".py",
   "mimetype": "text/x-python",
   "name": "python",
   "nbconvert_exporter": "python",
   "pygments_lexer": "ipython3",
   "version": "3.6.5"
  }
 },
 "nbformat": 4,
 "nbformat_minor": 2
}
