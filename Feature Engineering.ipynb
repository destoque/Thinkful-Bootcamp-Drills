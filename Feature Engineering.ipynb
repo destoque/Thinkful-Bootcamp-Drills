{
 "cells": [
  {
   "cell_type": "code",
   "execution_count": 1,
   "metadata": {},
   "outputs": [],
   "source": [
    "import pandas as pd\n",
    "import numpy as np\n",
    "import matplotlib.pyplot as plt\n",
    "import seaborn as sns\n",
    "import scipy.stats as stats"
   ]
  },
  {
   "cell_type": "code",
   "execution_count": 4,
   "metadata": {},
   "outputs": [
    {
     "name": "stdout",
     "output_type": "stream",
     "text": [
      "  cntry  idno  year  tvtot  ppltrst  pplfair  pplhlp  happy  sclmeet  sclact  \\\n",
      "0    CH   5.0     6    3.0      3.0     10.0     5.0    8.0      5.0     4.0   \n",
      "1    CH  25.0     6    6.0      5.0      7.0     5.0    9.0      3.0     2.0   \n",
      "2    CH  26.0     6    1.0      8.0      8.0     8.0    7.0      6.0     3.0   \n",
      "3    CH  28.0     6    4.0      6.0      6.0     7.0   10.0      6.0     2.0   \n",
      "4    CH  29.0     6    5.0      6.0      7.0     5.0    8.0      7.0     2.0   \n",
      "\n",
      "   gndr  agea  partner  \n",
      "0   2.0  60.0      1.0  \n",
      "1   2.0  59.0      1.0  \n",
      "2   1.0  24.0      2.0  \n",
      "3   2.0  64.0      1.0  \n",
      "4   2.0  55.0      1.0  \n",
      "['CH' 'CZ' 'DE' 'ES' 'NO' 'SE']\n"
     ]
    }
   ],
   "source": [
    "df = pd.read_csv('https://raw.githubusercontent.com/Thinkful-Ed/data-201-resources/master/ESS_practice_data/ESSdata_Thinkful.csv')\n",
    "\n",
    "\n",
    "print(df.head())\n",
    "\n",
    "print(df.cntry.unique())"
   ]
  },
  {
   "cell_type": "code",
   "execution_count": 6,
   "metadata": {},
   "outputs": [
    {
     "name": "stdout",
     "output_type": "stream",
     "text": [
      "cntry     CH    CZ  DE    ES    NO    SE\n",
      "Nordic                                  \n",
      "0       1546  1316  28  2426     0     0\n",
      "1          0     0   0     0  1462  1816\n"
     ]
    }
   ],
   "source": [
    "# Making dummies.\n",
    "# Also creating a data frame to hold our features.\n",
    "features = pd.get_dummies(df['cntry'])\n",
    "\n",
    "#Convert categorical variable into dummy/indicator variables\n",
    "\n",
    "# Nordic countries dummy.\n",
    "features['Nordic'] = np.where((df['cntry'].isin(['NO', 'SE'])), 1, 0)\n",
    "\n",
    "print(pd.crosstab(features['Nordic'], df['cntry']))"
   ]
  },
  {
   "cell_type": "code",
   "execution_count": 7,
   "metadata": {},
   "outputs": [
    {
     "name": "stdout",
     "output_type": "stream",
     "text": [
      "               count       mean        std   min   25%   50%   75%    max\n",
      "Adult_65plus                                                             \n",
      "0             6682.0  40.874738  13.958596  15.0  29.0  42.0  53.0   64.0\n",
      "1             1673.0  73.815302   6.650086  65.0  69.0  72.0  78.0  114.0\n"
     ]
    }
   ],
   "source": [
    "features['Adult_65plus'] = np.where(df['agea']>=65, 1, 0)\n",
    "\n",
    "# Check to make sure it worked.\n",
    "print(df['agea'].groupby(features['Adult_65plus']).describe())"
   ]
  },
  {
   "cell_type": "markdown",
   "metadata": {},
   "source": [
    "\n",
    "Group Adminstrative variables; country, identifications numbers, editions. Automatically included in data file.\n",
    "\n",
    "Name\n",
    "\n",
    "Label\n",
    "\n",
    "Question\n",
    "\n",
    "cntry\n",
    "\n",
    "Country\n",
    "\n",
    "All rounds: Country\n",
    "\n",
    "year\n",
    "\n",
    "ESS round\n",
    "\n",
    "All rounds: ESS round\n",
    "\n",
    "idno\n",
    "\n",
    "Respondent's identification number\n",
    "\n",
    "All rounds: Respondent's identification number\n",
    "\n",
    "\n",
    "\n",
    "tvtot\n",
    "\n",
    "TV watching, total time on average weekday\n",
    "\n",
    "All rounds: On an average weekday, how much time, in total, do you spend watching television?\n",
    "\n",
    "ppltrst\n",
    "\n",
    "Most people can be trusted or you can't be too careful\n",
    "\n",
    "All rounds: Using this card, generally speaking, would you say that most people can be trusted, or that you can't be too careful in dealing with people? Please tell me on a score of 0 to 10, where 0 means you can't be too careful and 10 means that most people can be trusted.\n",
    "\n",
    "pplfair\n",
    "\n",
    "Most people try to take advantage of you, or try to be fair\n",
    "\n",
    "All rounds: Using this card, do you think that most people would try to take advantage of you if they got the chance, or would they try to be fair?\n",
    "\n",
    "pplhlp\n",
    "\n",
    "Most of the time people helpful or mostly looking out for themselves\n",
    "\n",
    "All rounds: Would you say that most of the time people try to be helpful or that they are mostly looking out for themselves?\n",
    "\n",
    "\n",
    "happy\n",
    "\n",
    "How happy are you\n",
    "\n",
    "All rounds: Taking all things together, how happy would you say you are?\n",
    "\n",
    "sclmeet\n",
    "\n",
    "How often socially meet with friends, relatives or colleagues\n",
    "\n",
    "All rounds: Using this card, how often do you meet socially with friends, relatives or work colleagues?\n",
    "\n",
    "sclact\n",
    "\n",
    "Take part in social activities compared to others of same age\n",
    "\n",
    "All rounds: Compared to other people of your age, how often would you say you take part in social activities ?\n",
    "\n",
    "\n",
    "gndr\n",
    "\n",
    "Gender\n",
    "\n",
    "All rounds: CODE SEX, respondent\n",
    "\n",
    "agea\n",
    "\n",
    "Age of respondent, calculated\n",
    "\n",
    "All rounds: Age of respondent, calculated\n",
    "\n",
    "\n",
    "partner\n",
    "\n",
    "Lives with husband/wife/partner at household grid\n",
    "\n",
    "All rounds: INTERVIEWER CODE:"
   ]
  },
  {
   "cell_type": "code",
   "execution_count": null,
   "metadata": {},
   "outputs": [],
   "source": []
  }
 ],
 "metadata": {
  "kernelspec": {
   "display_name": "Python 3",
   "language": "python",
   "name": "python3"
  },
  "language_info": {
   "codemirror_mode": {
    "name": "ipython",
    "version": 3
   },
   "file_extension": ".py",
   "mimetype": "text/x-python",
   "name": "python",
   "nbconvert_exporter": "python",
   "pygments_lexer": "ipython3",
   "version": "3.6.5"
  }
 },
 "nbformat": 4,
 "nbformat_minor": 2
}
