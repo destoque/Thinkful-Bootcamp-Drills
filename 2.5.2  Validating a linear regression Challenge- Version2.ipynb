{
 "cells": [
  {
   "cell_type": "code",
   "execution_count": 1,
   "metadata": {},
   "outputs": [],
   "source": [
    "import pandas as pd\n",
    "from matplotlib import pyplot as plt\n",
    "import numpy as np\n",
    "import seaborn as sns\n",
    "import statsmodels.formula.api as smf\n",
    "from sklearn import linear_model\n",
    "from collections import Counter\n",
    "\n",
    "%matplotlib inline\n",
    "pd.options.display.float_format = '{:.3f}'.format\n",
    "\n",
    "# Suppress annoying harmless error.\n",
    "import warnings\n",
    "warnings.filterwarnings(action=\"ignore\", module=\"scipy\", message=\"^internal gelsd\")"
   ]
  },
  {
   "cell_type": "markdown",
   "metadata": {},
   "source": [
    "\n",
    "Propertycrime = α + Population + Population2 + Murder + Robbery\n",
    "\n",
    "The 'population' variable is already set for you, but you will need to create the last three features. Robbery and Murder are currently continuous variables. For this model, please use these variables to create categorical features where values greater than 0 are coded 1, and values equal to 0 are coded 0. You'll use this data and model in a later assignment- for now, just write the code you need to get the data ready. Don't forget basic data cleaning procedures, either! Do some graphing to see if there are any anomalous cases, and decide how you want to deal with them.\n",
    "\n",
    "Continuation from 2.4.2."
   ]
  },
  {
   "cell_type": "code",
   "execution_count": 2,
   "metadata": {},
   "outputs": [
    {
     "data": {
      "text/plain": [
       "Index(['City', 'Population', 'Violent\\ncrime',\n",
       "       'Murder and\\nnonnegligent\\nmanslaughter',\n",
       "       'Rape\\n(revised\\ndefinition)1', 'Rape\\n(legacy\\ndefinition)2',\n",
       "       'Robbery', 'Aggravated\\nassault', 'Property\\ncrime', 'Burglary',\n",
       "       'Larceny-\\ntheft', 'Motor\\nvehicle\\ntheft', 'Arson3'],\n",
       "      dtype='object')"
      ]
     },
     "metadata": {},
     "output_type": "display_data"
    },
    {
     "data": {
      "text/html": [
       "<div>\n",
       "<style scoped>\n",
       "    .dataframe tbody tr th:only-of-type {\n",
       "        vertical-align: middle;\n",
       "    }\n",
       "\n",
       "    .dataframe tbody tr th {\n",
       "        vertical-align: top;\n",
       "    }\n",
       "\n",
       "    .dataframe thead th {\n",
       "        text-align: right;\n",
       "    }\n",
       "</style>\n",
       "<table border=\"1\" class=\"dataframe\">\n",
       "  <thead>\n",
       "    <tr style=\"text-align: right;\">\n",
       "      <th></th>\n",
       "      <th>Property_Crime</th>\n",
       "      <th>Population</th>\n",
       "      <th>Murder</th>\n",
       "      <th>Robbery</th>\n",
       "      <th>population2</th>\n",
       "    </tr>\n",
       "  </thead>\n",
       "  <tbody>\n",
       "    <tr>\n",
       "      <th>0</th>\n",
       "      <td>12.000</td>\n",
       "      <td>1861.000</td>\n",
       "      <td>0.000</td>\n",
       "      <td>0.000</td>\n",
       "      <td>3463321.000</td>\n",
       "    </tr>\n",
       "    <tr>\n",
       "      <th>1</th>\n",
       "      <td>24.000</td>\n",
       "      <td>2577.000</td>\n",
       "      <td>0.000</td>\n",
       "      <td>0.000</td>\n",
       "      <td>6640929.000</td>\n",
       "    </tr>\n",
       "    <tr>\n",
       "      <th>2</th>\n",
       "      <td>16.000</td>\n",
       "      <td>2846.000</td>\n",
       "      <td>0.000</td>\n",
       "      <td>0.000</td>\n",
       "      <td>8099716.000</td>\n",
       "    </tr>\n",
       "    <tr>\n",
       "      <th>3</th>\n",
       "      <td>4090.000</td>\n",
       "      <td>97956.000</td>\n",
       "      <td>1.000</td>\n",
       "      <td>1.000</td>\n",
       "      <td>9595377936.000</td>\n",
       "    </tr>\n",
       "    <tr>\n",
       "      <th>4</th>\n",
       "      <td>223.000</td>\n",
       "      <td>6388.000</td>\n",
       "      <td>0.000</td>\n",
       "      <td>1.000</td>\n",
       "      <td>40806544.000</td>\n",
       "    </tr>\n",
       "    <tr>\n",
       "      <th>5</th>\n",
       "      <td>46.000</td>\n",
       "      <td>4089.000</td>\n",
       "      <td>0.000</td>\n",
       "      <td>1.000</td>\n",
       "      <td>16719921.000</td>\n",
       "    </tr>\n",
       "    <tr>\n",
       "      <th>6</th>\n",
       "      <td>10.000</td>\n",
       "      <td>1781.000</td>\n",
       "      <td>0.000</td>\n",
       "      <td>0.000</td>\n",
       "      <td>3171961.000</td>\n",
       "    </tr>\n",
       "    <tr>\n",
       "      <th>7</th>\n",
       "      <td>2118.000</td>\n",
       "      <td>118296.000</td>\n",
       "      <td>1.000</td>\n",
       "      <td>1.000</td>\n",
       "      <td>13993943616.000</td>\n",
       "    </tr>\n",
       "    <tr>\n",
       "      <th>8</th>\n",
       "      <td>210.000</td>\n",
       "      <td>9519.000</td>\n",
       "      <td>0.000</td>\n",
       "      <td>1.000</td>\n",
       "      <td>90611361.000</td>\n",
       "    </tr>\n",
       "    <tr>\n",
       "      <th>9</th>\n",
       "      <td>405.000</td>\n",
       "      <td>18182.000</td>\n",
       "      <td>0.000</td>\n",
       "      <td>1.000</td>\n",
       "      <td>330585124.000</td>\n",
       "    </tr>\n",
       "  </tbody>\n",
       "</table>\n",
       "</div>"
      ],
      "text/plain": [
       "   Property_Crime  Population  Murder  Robbery     population2\n",
       "0          12.000    1861.000   0.000    0.000     3463321.000\n",
       "1          24.000    2577.000   0.000    0.000     6640929.000\n",
       "2          16.000    2846.000   0.000    0.000     8099716.000\n",
       "3        4090.000   97956.000   1.000    1.000  9595377936.000\n",
       "4         223.000    6388.000   0.000    1.000    40806544.000\n",
       "5          46.000    4089.000   0.000    1.000    16719921.000\n",
       "6          10.000    1781.000   0.000    0.000     3171961.000\n",
       "7        2118.000  118296.000   1.000    1.000 13993943616.000\n",
       "8         210.000    9519.000   0.000    1.000    90611361.000\n",
       "9         405.000   18182.000   0.000    1.000   330585124.000"
      ]
     },
     "execution_count": 2,
     "metadata": {},
     "output_type": "execute_result"
    }
   ],
   "source": [
    "df = pd.read_csv('C:\\\\Users\\\\david\\Desktop\\\\thinkful datasets\\\\table_8_offenses_known_to_law_enforcement_new_york_by_city_2013.csv', header=4,)\n",
    "\n",
    "df\n",
    "display(df.columns)\n",
    "\n",
    "data= pd.DataFrame(df) \n",
    "\n",
    "needed_data = data.loc[:, ['Property\\ncrime','Population', 'Murder and\\nnonnegligent\\nmanslaughter', 'Robbery']]\n",
    "needed_data.columns = ['Property_Crime','Population', 'Murder', 'Robbery']\n",
    "\n",
    "needed_data = needed_data.dropna()\n",
    "\n",
    "needed_data.Robbery = needed_data.Robbery.where(needed_data.Robbery == 0, 1)\n",
    "needed_data.Murder = needed_data.Murder.where(needed_data.Murder == 0, 1)\n",
    "\n",
    "needed_data[\"population2\"] = needed_data[\"Population\"]**2\n",
    "\n",
    "#removing any outliers\n",
    "needed_data = needed_data[np.abs(needed_data.Population-needed_data.Population.mean())<=(2*needed_data.Population.std())] #keep only the ones that are within +3 to -3 standard deviations in the column 'Data'.\n",
    "\n",
    "needed_data.head(10)"
   ]
  },
  {
   "cell_type": "code",
   "execution_count": 3,
   "metadata": {},
   "outputs": [
    {
     "data": {
      "text/html": [
       "<div>\n",
       "<style scoped>\n",
       "    .dataframe tbody tr th:only-of-type {\n",
       "        vertical-align: middle;\n",
       "    }\n",
       "\n",
       "    .dataframe tbody tr th {\n",
       "        vertical-align: top;\n",
       "    }\n",
       "\n",
       "    .dataframe thead th {\n",
       "        text-align: right;\n",
       "    }\n",
       "</style>\n",
       "<table border=\"1\" class=\"dataframe\">\n",
       "  <thead>\n",
       "    <tr style=\"text-align: right;\">\n",
       "      <th></th>\n",
       "      <th>Property_Crime</th>\n",
       "      <th>Population</th>\n",
       "      <th>Murder</th>\n",
       "      <th>Robbery</th>\n",
       "      <th>population2</th>\n",
       "    </tr>\n",
       "  </thead>\n",
       "  <tbody>\n",
       "    <tr>\n",
       "      <th>count</th>\n",
       "      <td>347.000</td>\n",
       "      <td>347.000</td>\n",
       "      <td>347.000</td>\n",
       "      <td>347.000</td>\n",
       "      <td>347.000</td>\n",
       "    </tr>\n",
       "    <tr>\n",
       "      <th>mean</th>\n",
       "      <td>385.752</td>\n",
       "      <td>15956.686</td>\n",
       "      <td>0.138</td>\n",
       "      <td>0.599</td>\n",
       "      <td>985840709.758</td>\n",
       "    </tr>\n",
       "    <tr>\n",
       "      <th>std</th>\n",
       "      <td>1034.369</td>\n",
       "      <td>27080.219</td>\n",
       "      <td>0.346</td>\n",
       "      <td>0.491</td>\n",
       "      <td>5067232380.434</td>\n",
       "    </tr>\n",
       "    <tr>\n",
       "      <th>min</th>\n",
       "      <td>0.000</td>\n",
       "      <td>526.000</td>\n",
       "      <td>0.000</td>\n",
       "      <td>0.000</td>\n",
       "      <td>276676.000</td>\n",
       "    </tr>\n",
       "    <tr>\n",
       "      <th>25%</th>\n",
       "      <td>40.000</td>\n",
       "      <td>2997.000</td>\n",
       "      <td>0.000</td>\n",
       "      <td>0.000</td>\n",
       "      <td>8982153.000</td>\n",
       "    </tr>\n",
       "    <tr>\n",
       "      <th>50%</th>\n",
       "      <td>112.000</td>\n",
       "      <td>7187.000</td>\n",
       "      <td>0.000</td>\n",
       "      <td>1.000</td>\n",
       "      <td>51652969.000</td>\n",
       "    </tr>\n",
       "    <tr>\n",
       "      <th>75%</th>\n",
       "      <td>340.500</td>\n",
       "      <td>18160.500</td>\n",
       "      <td>0.000</td>\n",
       "      <td>1.000</td>\n",
       "      <td>329804222.500</td>\n",
       "    </tr>\n",
       "    <tr>\n",
       "      <th>max</th>\n",
       "      <td>12491.000</td>\n",
       "      <td>258789.000</td>\n",
       "      <td>1.000</td>\n",
       "      <td>1.000</td>\n",
       "      <td>66971746521.000</td>\n",
       "    </tr>\n",
       "  </tbody>\n",
       "</table>\n",
       "</div>"
      ],
      "text/plain": [
       "       Property_Crime  Population  Murder  Robbery     population2\n",
       "count         347.000     347.000 347.000  347.000         347.000\n",
       "mean          385.752   15956.686   0.138    0.599   985840709.758\n",
       "std          1034.369   27080.219   0.346    0.491  5067232380.434\n",
       "min             0.000     526.000   0.000    0.000      276676.000\n",
       "25%            40.000    2997.000   0.000    0.000     8982153.000\n",
       "50%           112.000    7187.000   0.000    1.000    51652969.000\n",
       "75%           340.500   18160.500   0.000    1.000   329804222.500\n",
       "max         12491.000  258789.000   1.000    1.000 66971746521.000"
      ]
     },
     "execution_count": 3,
     "metadata": {},
     "output_type": "execute_result"
    }
   ],
   "source": [
    "needed_data.describe()"
   ]
  },
  {
   "cell_type": "code",
   "execution_count": 4,
   "metadata": {},
   "outputs": [
    {
     "data": {
      "text/plain": [
       "258789.0"
      ]
     },
     "execution_count": 4,
     "metadata": {},
     "output_type": "execute_result"
    }
   ],
   "source": [
    "needed_data['Population'].max()"
   ]
  },
  {
   "cell_type": "code",
   "execution_count": 5,
   "metadata": {},
   "outputs": [
    {
     "data": {
      "text/plain": [
       "City                                        Buffalo\n",
       "Population                               258789.000\n",
       "Violent\\ncrime                             3249.000\n",
       "Murder and\\nnonnegligent\\nmanslaughter       47.000\n",
       "Rape\\n(revised\\ndefinition)1                    NaN\n",
       "Rape\\n(legacy\\ndefinition)2                 145.000\n",
       "Robbery                                    1322.000\n",
       "Aggravated\\nassault                        1735.000\n",
       "Property\\ncrime                           12491.000\n",
       "Burglary                                   3458.000\n",
       "Larceny-\\ntheft                            8076.000\n",
       "Motor\\nvehicle\\ntheft                       957.000\n",
       "Arson3                                          NaN\n",
       "Name: 35, dtype: object"
      ]
     },
     "execution_count": 5,
     "metadata": {},
     "output_type": "execute_result"
    }
   ],
   "source": [
    "df.loc[needed_data['Population'].idxmax()]"
   ]
  },
  {
   "cell_type": "code",
   "execution_count": 6,
   "metadata": {},
   "outputs": [
    {
     "data": {
      "text/plain": [
       "Property_Crime         64.000\n",
       "Population           3324.000\n",
       "Murder                  0.000\n",
       "Robbery                 0.000\n",
       "population2      11048976.000\n",
       "Name: 217, dtype: float64"
      ]
     },
     "execution_count": 6,
     "metadata": {},
     "output_type": "execute_result"
    }
   ],
   "source": [
    "#find a way to find row of max value\n",
    "\n",
    "needed_data.iloc[216,:]"
   ]
  },
  {
   "cell_type": "code",
   "execution_count": 7,
   "metadata": {},
   "outputs": [
    {
     "data": {
      "text/plain": [
       "(array([35], dtype=int64), array([1], dtype=int64))"
      ]
     },
     "execution_count": 7,
     "metadata": {},
     "output_type": "execute_result"
    }
   ],
   "source": [
    "#needed_data.index(max(\"Population\"))\\\n",
    "\n",
    "A = np.array(needed_data) \n",
    "np.where(A==max(needed_data[\"Population\"]))"
   ]
  },
  {
   "cell_type": "code",
   "execution_count": 8,
   "metadata": {},
   "outputs": [
    {
     "data": {
      "text/plain": [
       "City                                      Glen Park Village\n",
       "Population                                          526.000\n",
       "Violent\\ncrime                                        0.000\n",
       "Murder and\\nnonnegligent\\nmanslaughter                0.000\n",
       "Rape\\n(revised\\ndefinition)1                            NaN\n",
       "Rape\\n(legacy\\ndefinition)2                           0.000\n",
       "Robbery                                               0.000\n",
       "Aggravated\\nassault                                   0.000\n",
       "Property\\ncrime                                       5.000\n",
       "Burglary                                              0.000\n",
       "Larceny-\\ntheft                                       5.000\n",
       "Motor\\nvehicle\\ntheft                                 0.000\n",
       "Arson3                                                0.000\n",
       "Name: 118, dtype: object"
      ]
     },
     "execution_count": 8,
     "metadata": {},
     "output_type": "execute_result"
    }
   ],
   "source": [
    "df.loc[needed_data['Population'].idxmin()]"
   ]
  },
  {
   "cell_type": "code",
   "execution_count": 9,
   "metadata": {},
   "outputs": [],
   "source": [
    "#Work through this\n",
    "\n",
    "#idx = max(range(len(a)), key = lambda i: a[i])\n",
    "\n"
   ]
  },
  {
   "cell_type": "code",
   "execution_count": 10,
   "metadata": {},
   "outputs": [
    {
     "data": {
      "text/plain": [
       "0     0.000\n",
       "1     0.000\n",
       "2     0.000\n",
       "3     1.000\n",
       "4     0.000\n",
       "5     0.000\n",
       "6     0.000\n",
       "7     1.000\n",
       "8     0.000\n",
       "9     0.000\n",
       "10    0.000\n",
       "11    0.000\n",
       "12    0.000\n",
       "13    0.000\n",
       "14    1.000\n",
       "15    0.000\n",
       "16    0.000\n",
       "17    0.000\n",
       "18    0.000\n",
       "19    0.000\n",
       "20    0.000\n",
       "21    0.000\n",
       "22    1.000\n",
       "23    0.000\n",
       "24    0.000\n",
       "25    0.000\n",
       "26    0.000\n",
       "27    0.000\n",
       "28    0.000\n",
       "29    0.000\n",
       "       ... \n",
       "318   0.000\n",
       "319   0.000\n",
       "320   0.000\n",
       "321   1.000\n",
       "322   0.000\n",
       "323   1.000\n",
       "324   0.000\n",
       "325   0.000\n",
       "326   0.000\n",
       "327   0.000\n",
       "328   0.000\n",
       "329   0.000\n",
       "330   0.000\n",
       "331   1.000\n",
       "332   0.000\n",
       "333   0.000\n",
       "334   0.000\n",
       "335   0.000\n",
       "336   0.000\n",
       "337   0.000\n",
       "338   1.000\n",
       "339   0.000\n",
       "340   1.000\n",
       "341   0.000\n",
       "342   0.000\n",
       "343   0.000\n",
       "344   0.000\n",
       "345   0.000\n",
       "346   1.000\n",
       "347   0.000\n",
       "Name: Murder, Length: 347, dtype: float64"
      ]
     },
     "execution_count": 10,
     "metadata": {},
     "output_type": "execute_result"
    }
   ],
   "source": [
    "needed_data.Murder"
   ]
  },
  {
   "cell_type": "code",
   "execution_count": 11,
   "metadata": {},
   "outputs": [
    {
     "data": {
      "text/plain": [
       "0       1861.000\n",
       "1       2577.000\n",
       "2       2846.000\n",
       "3      97956.000\n",
       "4       6388.000\n",
       "5       4089.000\n",
       "6       1781.000\n",
       "7     118296.000\n",
       "8       9519.000\n",
       "9      18182.000\n",
       "10      2053.000\n",
       "11      4523.000\n",
       "12       658.000\n",
       "13      2522.000\n",
       "14     27270.000\n",
       "15      3333.000\n",
       "16      7473.000\n",
       "17      5418.000\n",
       "18     15374.000\n",
       "19      5733.000\n",
       "20     17627.000\n",
       "21     34243.000\n",
       "22     46304.000\n",
       "23      1410.000\n",
       "24     12001.000\n",
       "25      1022.000\n",
       "26      2325.000\n",
       "27      2054.000\n",
       "28      2065.000\n",
       "29      2358.000\n",
       "         ...    \n",
       "318     3642.000\n",
       "319      615.000\n",
       "320    12195.000\n",
       "321    61686.000\n",
       "322    27980.000\n",
       "323     6887.000\n",
       "324    27940.000\n",
       "325     3012.000\n",
       "326     3453.000\n",
       "327     5828.000\n",
       "328     8392.000\n",
       "329     5175.000\n",
       "330    28179.000\n",
       "331    10245.000\n",
       "332     1862.000\n",
       "333     4337.000\n",
       "334    43777.000\n",
       "335     1797.000\n",
       "336     4574.000\n",
       "337     1732.000\n",
       "338    44821.000\n",
       "339     2604.000\n",
       "340    57559.000\n",
       "341     3733.000\n",
       "342     9141.000\n",
       "343    10685.000\n",
       "344      829.000\n",
       "345     5931.000\n",
       "346   199134.000\n",
       "347    36643.000\n",
       "Name: Population, Length: 347, dtype: float64"
      ]
     },
     "execution_count": 11,
     "metadata": {},
     "output_type": "execute_result"
    }
   ],
   "source": [
    "needed_data.Population"
   ]
  },
  {
   "cell_type": "code",
   "execution_count": 12,
   "metadata": {},
   "outputs": [
    {
     "data": {
      "image/png": "[encoded data removed]",
      "text/plain": [
       "<Figure size 432x288 with 1 Axes>"
      ]
     },
     "metadata": {},
     "output_type": "display_data"
    }
   ],
   "source": [
    "sns.boxplot(\n",
    "    needed_data.Murder,\n",
    "    needed_data.Population,\n",
    ")\n",
    "plt.xlabel('Murder')\n",
    "plt.ylabel('Population')\n",
    "plt.show()"
   ]
  },
  {
   "cell_type": "code",
   "execution_count": 13,
   "metadata": {},
   "outputs": [
    {
     "data": {
      "image/png": "[encoded data removed]",
      "text/plain": [
       "<Figure size 432x288 with 1 Axes>"
      ]
     },
     "metadata": {},
     "output_type": "display_data"
    }
   ],
   "source": [
    "sns.barplot(x='Murder', y='Population', data=needed_data)\n",
    "plt.show()"
   ]
  },
  {
   "cell_type": "code",
   "execution_count": 14,
   "metadata": {},
   "outputs": [
    {
     "data": {
      "text/plain": [
       "<seaborn.axisgrid.PairGrid at 0x1c16cb52400>"
      ]
     },
     "execution_count": 14,
     "metadata": {},
     "output_type": "execute_result"
    },
    {
     "data": {
      "image/png": "[encoded data removed]",
      "text/plain": [
       "<Figure size 900x900 with 30 Axes>"
      ]
     },
     "metadata": {},
     "output_type": "display_data"
    }
   ],
   "source": [
    "sns.pairplot(needed_data)"
   ]
  },
  {
   "cell_type": "code",
   "execution_count": 15,
   "metadata": {},
   "outputs": [
    {
     "name": "stdout",
     "output_type": "stream",
     "text": [
      "\n",
      "Coefficients: \n",
      " [[1.29510822e-02 9.28206166e+01 1.95038670e+02 1.14920553e-07]]\n",
      "\n",
      "Intercept: \n",
      " [-16.81583158]\n",
      "\n",
      "R-squared:\n",
      "0.8444937611173462\n"
     ]
    }
   ],
   "source": [
    "# Instantiate and fit our model.# Instant \n",
    "regr = linear_model.LinearRegression()\n",
    "Y = needed_data['Property_Crime'].values.reshape(-1, 1)\n",
    "X = needed_data[['Population','Robbery', 'Murder', 'population2']]\n",
    "regr.fit(X, Y)\n",
    "\n",
    "# Inspect the results.\n",
    "print('\\nCoefficients: \\n', regr.coef_)\n",
    "print('\\nIntercept: \\n', regr.intercept_)\n",
    "print('\\nR-squared:')\n",
    "print(regr.score(X, Y))"
   ]
  },
  {
   "cell_type": "code",
   "execution_count": 16,
   "metadata": {},
   "outputs": [],
   "source": [
    "# Write out the model formula.\n",
    "# Your dependent variable on the right, independent variables on the left\n",
    "# Use a ~ to represent an '=' from the functional form\n",
    "linear_formula = 'Property_Crime ~ Population+Robbery+Murder+population2'\n",
    "\n",
    "# Fit the model to our data using the formula.\n",
    "lm = smf.ols(formula=linear_formula, data=needed_data).fit()"
   ]
  },
  {
   "cell_type": "code",
   "execution_count": 17,
   "metadata": {},
   "outputs": [
    {
     "data": {
      "text/plain": [
       "Intercept     0.641\n",
       "Population    0.000\n",
       "Robbery       0.072\n",
       "Murder        0.011\n",
       "population2   0.000\n",
       "dtype: float64"
      ]
     },
     "execution_count": 17,
     "metadata": {},
     "output_type": "execute_result"
    }
   ],
   "source": [
    "lm.pvalues"
   ]
  },
  {
   "cell_type": "code",
   "execution_count": 19,
   "metadata": {},
   "outputs": [
    {
     "data": {
      "text/plain": [
       "Intercept     -16.816\n",
       "Population      0.013\n",
       "Robbery        92.821\n",
       "Murder        195.039\n",
       "population2     0.000\n",
       "dtype: float64"
      ]
     },
     "execution_count": 19,
     "metadata": {},
     "output_type": "execute_result"
    }
   ],
   "source": [
    "lm.params"
   ]
  },
  {
   "cell_type": "code",
   "execution_count": null,
   "metadata": {},
   "outputs": [],
   "source": []
  }
 ],
 "metadata": {
  "kernelspec": {
   "display_name": "Python 3",
   "language": "python",
   "name": "python3"
  },
  "language_info": {
   "codemirror_mode": {
    "name": "ipython",
    "version": 3
   },
   "file_extension": ".py",
   "mimetype": "text/x-python",
   "name": "python",
   "nbconvert_exporter": "python",
   "pygments_lexer": "ipython3",
   "version": "3.6.5"
  }
 },
 "nbformat": 4,
 "nbformat_minor": 2
}
