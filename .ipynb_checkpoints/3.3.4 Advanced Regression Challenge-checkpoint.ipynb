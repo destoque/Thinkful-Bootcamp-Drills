{
 "cells": [
  {
   "cell_type": "code",
   "execution_count": 1,
   "metadata": {},
   "outputs": [],
   "source": [
    "import pandas as pd\n",
    "from matplotlib import pyplot as plt\n",
    "import numpy as np\n",
    "import math\n",
    "import seaborn as sns\n",
    "import sklearn\n",
    "from sklearn import linear_model\n",
    "from sklearn.linear_model import LogisticRegression\n",
    "from sklearn.model_selection import cross_val_score\n",
    "from sklearn import preprocessing\n",
    "%matplotlib inline\n",
    "sns.set_style('white')"
   ]
  },
  {
   "cell_type": "markdown",
   "metadata": {},
   "source": [
    "Now that you have two new regression methods at your fingertips, it's time to give them a spin. In fact, for this challenge, let's put them together! Pick a dataset of your choice with a binary outcome and the potential for at least 15 features. If you're drawing a blank, the crime rates in 2013 dataset has a lot of variables that could be made into a modelable binary outcome.\n",
    "\n",
    "Engineer your features, then create three models. Each model will be run on a training set and a test-set (or multiple test-sets, if you take a folds approach). The models should be:\n",
    "\n",
    "Vanilla logistic regression\n",
    "Ridge logistic regression\n",
    "Lasso logistic regression\n",
    "If you're stuck on how to begin combining your two new modeling skills, here's a hint: the SKlearn LogisticRegression method has a \"penalty\" argument that takes either 'l1' or 'l2' as a value.\n",
    "\n",
    "In your report, evaluate all three models and decide on your best. Be clear about the decisions you made that led to these models (feature selection, regularization parameter selection, model evaluation criteria) and why you think that particular model is the best of the three. Also reflect on the strengths and limitations of regression as a modeling approach. Were there things you couldn't do but you wish you could have done"
   ]
  },
  {
   "cell_type": "markdown",
   "metadata": {},
   "source": [
    "\n",
    "Propertycrime = α + Population + Population2 + Murder + Robbery\n",
    "\n",
    "The 'population' variable is already set for you, but you will need to create the last three features. Robbery and Murder are currently continuous variables. For this model, please use these variables to create categorical features where values greater than 0 are coded 1, and values equal to 0 are coded 0. You'll use this data and model in a later assignment- for now, just write the code you need to get the data ready. Don't forget basic data cleaning procedures, either! Do some graphing to see if there are any anomalous cases, and decide how you want to deal with them."
   ]
  },
  {
   "cell_type": "code",
   "execution_count": 2,
   "metadata": {},
   "outputs": [
    {
     "data": {
      "text/plain": [
       "Index(['City', 'Population', 'Violent\\ncrime',\n",
       "       'Murder and\\nnonnegligent\\nmanslaughter',\n",
       "       'Rape\\n(revised\\ndefinition)1', 'Rape\\n(legacy\\ndefinition)2',\n",
       "       'Robbery', 'Aggravated\\nassault', 'Property\\ncrime', 'Burglary',\n",
       "       'Larceny-\\ntheft', 'Motor\\nvehicle\\ntheft', 'Arson3'],\n",
       "      dtype='object')"
      ]
     },
     "metadata": {},
     "output_type": "display_data"
    }
   ],
   "source": [
    "\n",
    "\n",
    "df = pd.read_csv('C:\\\\Users\\\\david\\Desktop\\\\thinkful datasets\\\\table_8_offenses_known_to_law_enforcement_new_york_by_city_2013.csv', header=4,)\n",
    "\n",
    "df\n",
    "display(df.columns)\n",
    "\n",
    "data= pd.DataFrame(df) \n",
    "\n",
    "needed_data = data.loc[:, ['City','Population', 'Property\\ncrime','Murder and\\nnonnegligent\\nmanslaughter', 'Larceny-\\ntheft', 'Robbery','Burglary']]\n",
    "needed_data.columns = ['City','Population','Property_Crime', 'Murder', 'Theft', 'Robbery', 'Burglary']\n",
    "\n",
    "needed_data = needed_data.dropna()\n",
    "\n",
    "#needed_data.Robbery = needed_data.Robbery.where(needed_data.Robbery == 0, 1)\n",
    "#needed_data.Murder = needed_data.Murder.where(needed_data.Murder == 0, 1)\n",
    "\n",
    "#needed_data[\"population2\"] = needed_data[\"Population\"]**2\n",
    "\n",
    "needed_data = needed_data[np.abs(needed_data.Population-needed_data.Population.mean())<=(2*needed_data.Population.std())] #keep only the ones that are within +2 to -2 standard deviations in the column 'Data'.\n",
    "\n",
    "#dropping city column\n",
    "needed_data = needed_data.drop(['City'], axis=1)"
   ]
  },
  {
   "cell_type": "code",
   "execution_count": 3,
   "metadata": {
    "scrolled": true
   },
   "outputs": [
    {
     "data": {
      "text/html": [
       "<div>\n",
       "<style scoped>\n",
       "    .dataframe tbody tr th:only-of-type {\n",
       "        vertical-align: middle;\n",
       "    }\n",
       "\n",
       "    .dataframe tbody tr th {\n",
       "        vertical-align: top;\n",
       "    }\n",
       "\n",
       "    .dataframe thead th {\n",
       "        text-align: right;\n",
       "    }\n",
       "</style>\n",
       "<table border=\"1\" class=\"dataframe\">\n",
       "  <thead>\n",
       "    <tr style=\"text-align: right;\">\n",
       "      <th></th>\n",
       "      <th>Population</th>\n",
       "      <th>Property_Crime</th>\n",
       "      <th>Murder</th>\n",
       "      <th>Theft</th>\n",
       "      <th>Robbery</th>\n",
       "      <th>Burglary</th>\n",
       "    </tr>\n",
       "  </thead>\n",
       "  <tbody>\n",
       "    <tr>\n",
       "      <th>0</th>\n",
       "      <td>1861.0</td>\n",
       "      <td>12.0</td>\n",
       "      <td>0.0</td>\n",
       "      <td>10.0</td>\n",
       "      <td>0.0</td>\n",
       "      <td>2.0</td>\n",
       "    </tr>\n",
       "    <tr>\n",
       "      <th>1</th>\n",
       "      <td>2577.0</td>\n",
       "      <td>24.0</td>\n",
       "      <td>0.0</td>\n",
       "      <td>20.0</td>\n",
       "      <td>0.0</td>\n",
       "      <td>3.0</td>\n",
       "    </tr>\n",
       "    <tr>\n",
       "      <th>2</th>\n",
       "      <td>2846.0</td>\n",
       "      <td>16.0</td>\n",
       "      <td>0.0</td>\n",
       "      <td>15.0</td>\n",
       "      <td>0.0</td>\n",
       "      <td>1.0</td>\n",
       "    </tr>\n",
       "    <tr>\n",
       "      <th>3</th>\n",
       "      <td>97956.0</td>\n",
       "      <td>4090.0</td>\n",
       "      <td>8.0</td>\n",
       "      <td>3243.0</td>\n",
       "      <td>227.0</td>\n",
       "      <td>705.0</td>\n",
       "    </tr>\n",
       "    <tr>\n",
       "      <th>4</th>\n",
       "      <td>6388.0</td>\n",
       "      <td>223.0</td>\n",
       "      <td>0.0</td>\n",
       "      <td>165.0</td>\n",
       "      <td>4.0</td>\n",
       "      <td>53.0</td>\n",
       "    </tr>\n",
       "  </tbody>\n",
       "</table>\n",
       "</div>"
      ],
      "text/plain": [
       "   Population  Property_Crime  Murder   Theft  Robbery  Burglary\n",
       "0      1861.0            12.0     0.0    10.0      0.0       2.0\n",
       "1      2577.0            24.0     0.0    20.0      0.0       3.0\n",
       "2      2846.0            16.0     0.0    15.0      0.0       1.0\n",
       "3     97956.0          4090.0     8.0  3243.0    227.0     705.0\n",
       "4      6388.0           223.0     0.0   165.0      4.0      53.0"
      ]
     },
     "execution_count": 3,
     "metadata": {},
     "output_type": "execute_result"
    }
   ],
   "source": [
    "needed_data.head(5)"
   ]
  },
  {
   "cell_type": "code",
   "execution_count": 4,
   "metadata": {},
   "outputs": [
    {
     "data": {
      "text/plain": [
       "count      347.000000\n",
       "mean       385.752161\n",
       "std       1034.369072\n",
       "min          0.000000\n",
       "25%         40.000000\n",
       "50%        112.000000\n",
       "75%        340.500000\n",
       "max      12491.000000\n",
       "Name: Property_Crime, dtype: float64"
      ]
     },
     "execution_count": 4,
     "metadata": {},
     "output_type": "execute_result"
    }
   ],
   "source": [
    "needed_data['Property_Crime'].describe()"
   ]
  },
  {
   "cell_type": "markdown",
   "metadata": {},
   "source": [
    "Using the Property Crime median of 112 I turn the outcome variable into binary codes of 1 or 0"
   ]
  },
  {
   "cell_type": "code",
   "execution_count": 5,
   "metadata": {},
   "outputs": [],
   "source": [
    "needed_data['Property_Crime'] = np.where(needed_data['Property_Crime']>=112, 1, 0)"
   ]
  },
  {
   "cell_type": "code",
   "execution_count": 6,
   "metadata": {},
   "outputs": [
    {
     "name": "stderr",
     "output_type": "stream",
     "text": [
      "c:\\users\\david\\appdata\\local\\programs\\python\\python36\\lib\\site-packages\\ipykernel_launcher.py:7: DeprecationWarning: \n",
      ".ix is deprecated. Please use\n",
      ".loc for label based indexing or\n",
      ".iloc for positional indexing\n",
      "\n",
      "See the documentation here:\n",
      "http://pandas.pydata.org/pandas-docs/stable/indexing.html#ix-indexer-is-deprecated\n",
      "  import sys\n"
     ]
    }
   ],
   "source": [
    "\n",
    "\n",
    "exclude = ['Property_Crime']\n",
    "# Independent Variable\n",
    "y = needed_data.Property_Crime\n",
    "# Dependent Variables\n",
    "X = needed_data.ix[:, needed_data.columns.difference(exclude)]"
   ]
  },
  {
   "cell_type": "markdown",
   "metadata": {},
   "source": [
    "## Vanilla Logistic Regression"
   ]
  },
  {
   "cell_type": "code",
   "execution_count": 7,
   "metadata": {},
   "outputs": [
    {
     "name": "stdout",
     "output_type": "stream",
     "text": [
      "Coefficients\n",
      "[[ 2.19023802e-03  3.95615006e-04 -9.94390656e-05  4.48101697e-03\n",
      "   1.60759794e-02]]\n",
      "[-0.00671328]\n",
      "\n",
      " Accuracy by Property Crime\n",
      "Property_Crime    0    1\n",
      "row_0                   \n",
      "0                67    4\n",
      "1               105  171\n",
      "\n",
      " Percentage accuracy\n",
      "0.6858789625360231\n"
     ]
    }
   ],
   "source": [
    "# Declare a logistic regression classifier.\n",
    "# Parameter regularization coefficient C described above.\n",
    "lr = LogisticRegression(C=1e9)\n",
    "\n",
    "# Fit the model.\n",
    "fit = lr.fit(X, y)\n",
    "\n",
    "# Display.\n",
    "print('Coefficients')\n",
    "print(fit.coef_)\n",
    "print(fit.intercept_)\n",
    "pred_y_sklearn = lr.predict(X)\n",
    "\n",
    "print('\\n Accuracy by Property Crime')\n",
    "print(pd.crosstab(pred_y_sklearn, y))\n",
    "\n",
    "print('\\n Percentage accuracy')\n",
    "print(lr.score(X, y))"
   ]
  },
  {
   "cell_type": "code",
   "execution_count": 19,
   "metadata": {},
   "outputs": [
    {
     "name": "stdout",
     "output_type": "stream",
     "text": [
      "\n",
      "Cross Validated R2 scores: \n",
      " [0.97142857 0.9        0.95652174 0.72463768 0.65217391]\n",
      "\n",
      "Overall Logistic Regression R2: 0.841 (+/- 0.258)\n",
      "\n"
     ]
    }
   ],
   "source": [
    "score = cross_val_score(fit, X, y, cv=5)\n",
    "print('\\nCross Validated R2 scores: \\n', score)\n",
    "print(\"\\nOverall Logistic Regression R2: %0.3f (+/- %0.3f)\\n\" % (score.mean(), score.std() * 2))"
   ]
  },
  {
   "cell_type": "markdown",
   "metadata": {},
   "source": [
    "## Ridge Regression Model"
   ]
  },
  {
   "cell_type": "code",
   "execution_count": 15,
   "metadata": {},
   "outputs": [],
   "source": [
    "Ridge_list = pd.DataFrame(columns=['lambda', 'ridgeR2'])\n",
    "\n",
    "lambs = [1e-15,1e-8, 1e-4, 1e-3,1e-2, 1, 5, 10, 20, 100, 1000, 10000, 100000, 1e10, 1e15]\n",
    "\n",
    "for i in lambs:\n",
    "    ridge = LogisticRegression(penalty='l2', C=i)\n",
    "    ridge.fit(X, y)\n",
    "    \n",
    "    scores = pd.DataFrame([[i, ridge.score(X, y)]],\n",
    "                           columns=['lambda', 'ridgeR2'])\n",
    "    Ridge_list = Ridge_list.append(scores, ignore_index=True)"
   ]
  },
  {
   "cell_type": "code",
   "execution_count": 16,
   "metadata": {},
   "outputs": [
    {
     "data": {
      "text/html": [
       "<div>\n",
       "<style scoped>\n",
       "    .dataframe tbody tr th:only-of-type {\n",
       "        vertical-align: middle;\n",
       "    }\n",
       "\n",
       "    .dataframe tbody tr th {\n",
       "        vertical-align: top;\n",
       "    }\n",
       "\n",
       "    .dataframe thead th {\n",
       "        text-align: right;\n",
       "    }\n",
       "</style>\n",
       "<table border=\"1\" class=\"dataframe\">\n",
       "  <thead>\n",
       "    <tr style=\"text-align: right;\">\n",
       "      <th></th>\n",
       "      <th>lambda</th>\n",
       "      <th>ridgeR2</th>\n",
       "    </tr>\n",
       "  </thead>\n",
       "  <tbody>\n",
       "    <tr>\n",
       "      <th>0</th>\n",
       "      <td>1.000000e-15</td>\n",
       "      <td>0.504323</td>\n",
       "    </tr>\n",
       "    <tr>\n",
       "      <th>1</th>\n",
       "      <td>1.000000e-08</td>\n",
       "      <td>0.504323</td>\n",
       "    </tr>\n",
       "    <tr>\n",
       "      <th>2</th>\n",
       "      <td>1.000000e-04</td>\n",
       "      <td>0.677233</td>\n",
       "    </tr>\n",
       "    <tr>\n",
       "      <th>3</th>\n",
       "      <td>1.000000e-03</td>\n",
       "      <td>0.688761</td>\n",
       "    </tr>\n",
       "    <tr>\n",
       "      <th>4</th>\n",
       "      <td>1.000000e-02</td>\n",
       "      <td>0.685879</td>\n",
       "    </tr>\n",
       "    <tr>\n",
       "      <th>5</th>\n",
       "      <td>1.000000e+00</td>\n",
       "      <td>0.685879</td>\n",
       "    </tr>\n",
       "    <tr>\n",
       "      <th>6</th>\n",
       "      <td>5.000000e+00</td>\n",
       "      <td>0.685879</td>\n",
       "    </tr>\n",
       "    <tr>\n",
       "      <th>7</th>\n",
       "      <td>1.000000e+01</td>\n",
       "      <td>0.685879</td>\n",
       "    </tr>\n",
       "    <tr>\n",
       "      <th>8</th>\n",
       "      <td>2.000000e+01</td>\n",
       "      <td>0.685879</td>\n",
       "    </tr>\n",
       "    <tr>\n",
       "      <th>9</th>\n",
       "      <td>1.000000e+02</td>\n",
       "      <td>0.685879</td>\n",
       "    </tr>\n",
       "    <tr>\n",
       "      <th>10</th>\n",
       "      <td>1.000000e+03</td>\n",
       "      <td>0.685879</td>\n",
       "    </tr>\n",
       "    <tr>\n",
       "      <th>11</th>\n",
       "      <td>1.000000e+04</td>\n",
       "      <td>0.685879</td>\n",
       "    </tr>\n",
       "    <tr>\n",
       "      <th>12</th>\n",
       "      <td>1.000000e+05</td>\n",
       "      <td>0.685879</td>\n",
       "    </tr>\n",
       "    <tr>\n",
       "      <th>13</th>\n",
       "      <td>1.000000e+10</td>\n",
       "      <td>0.685879</td>\n",
       "    </tr>\n",
       "    <tr>\n",
       "      <th>14</th>\n",
       "      <td>1.000000e+15</td>\n",
       "      <td>0.685879</td>\n",
       "    </tr>\n",
       "  </tbody>\n",
       "</table>\n",
       "</div>"
      ],
      "text/plain": [
       "          lambda   ridgeR2\n",
       "0   1.000000e-15  0.504323\n",
       "1   1.000000e-08  0.504323\n",
       "2   1.000000e-04  0.677233\n",
       "3   1.000000e-03  0.688761\n",
       "4   1.000000e-02  0.685879\n",
       "5   1.000000e+00  0.685879\n",
       "6   5.000000e+00  0.685879\n",
       "7   1.000000e+01  0.685879\n",
       "8   2.000000e+01  0.685879\n",
       "9   1.000000e+02  0.685879\n",
       "10  1.000000e+03  0.685879\n",
       "11  1.000000e+04  0.685879\n",
       "12  1.000000e+05  0.685879\n",
       "13  1.000000e+10  0.685879\n",
       "14  1.000000e+15  0.685879"
      ]
     },
     "execution_count": 16,
     "metadata": {},
     "output_type": "execute_result"
    }
   ],
   "source": [
    "Ridge_list"
   ]
  },
  {
   "cell_type": "markdown",
   "metadata": {},
   "source": [
    "The above shows that after 1.0e-03 there is no change to further change to the model."
   ]
  },
  {
   "cell_type": "code",
   "execution_count": 17,
   "metadata": {},
   "outputs": [
    {
     "name": "stdout",
     "output_type": "stream",
     "text": [
      "Coefficients\n",
      "[[ 2.19023802e-03  3.95615006e-04 -9.94390656e-05  4.48101697e-03\n",
      "   1.60759794e-02]]\n",
      "[-0.00671328]\n",
      "\n",
      " Accuracy by Property Crime\n",
      "Property_Crime    0    1\n",
      "row_0                   \n",
      "0                67    3\n",
      "1               105  172\n",
      "\n",
      " Percentage accuracy\n",
      "0.6887608069164265\n"
     ]
    }
   ],
   "source": [
    "ridge = LogisticRegression(penalty='l2', C=1e-3)\n",
    "\n",
    "# Fit the model.\n",
    "ridge_fit = ridge.fit(X, y)\n",
    "\n",
    "# Display.\n",
    "print('Coefficients')\n",
    "print(fit.coef_)\n",
    "print(fit.intercept_)\n",
    "pred_y_ridge = ridge.predict(X)\n",
    "\n",
    "print('\\n Accuracy by Property Crime')\n",
    "print(pd.crosstab(pred_y_ridge, y))\n",
    "\n",
    "print('\\n Percentage accuracy')\n",
    "print(ridge.score(X, y))"
   ]
  },
  {
   "cell_type": "code",
   "execution_count": 20,
   "metadata": {},
   "outputs": [
    {
     "name": "stdout",
     "output_type": "stream",
     "text": [
      "\n",
      "Cross Validated R2 scores: \n",
      " [0.7        0.77142857 0.71014493 0.72463768 0.65217391]\n",
      "\n",
      "Overall Ridge Regression R2: 0.712 (+/- 0.077)\n",
      "\n"
     ]
    }
   ],
   "source": [
    "score = cross_val_score(ridge_fit, X, y, cv=5)\n",
    "print('\\nCross Validated R2 scores: \\n', score)\n",
    "print(\"\\nOverall Ridge Regression R2: %0.3f (+/- %0.3f)\\n\" % (score.mean(), score.std() * 2))"
   ]
  },
  {
   "cell_type": "markdown",
   "metadata": {},
   "source": [
    "## Lasso Logistic Regression Model"
   ]
  },
  {
   "cell_type": "code",
   "execution_count": null,
   "metadata": {},
   "outputs": [],
   "source": [
    "lasso_list = pd.DataFrame(columns=['lambda', 'LassoR2'])\n",
    "\n",
    "lambs = [1e-15,1e-8, 1e-4, 1e-3,1e-2, 1, 5, 10, 20, 100, 1000, 10000, 100000, 1e10, 1e15]\n",
    "\n",
    "for i in lambs:\n",
    "    lasso = LogisticRegression(penalty='l1', C=i)\n",
    "    lasso.fit(X, y)\n",
    "    \n",
    "    scores = pd.DataFrame([[i, lasso.score(X, y)]],\n",
    "                           columns=['lambda', 'LassoR2'])\n",
    "    lasso_list = lasso_list.append(scores, ignore_index=True)"
   ]
  },
  {
   "cell_type": "code",
   "execution_count": null,
   "metadata": {},
   "outputs": [],
   "source": []
  },
  {
   "cell_type": "code",
   "execution_count": null,
   "metadata": {},
   "outputs": [],
   "source": []
  }
 ],
 "metadata": {
  "kernelspec": {
   "display_name": "Python 3",
   "language": "python",
   "name": "python3"
  },
  "language_info": {
   "codemirror_mode": {
    "name": "ipython",
    "version": 3
   },
   "file_extension": ".py",
   "mimetype": "text/x-python",
   "name": "python",
   "nbconvert_exporter": "python",
   "pygments_lexer": "ipython3",
   "version": "3.6.5"
  }
 },
 "nbformat": 4,
 "nbformat_minor": 2
}
