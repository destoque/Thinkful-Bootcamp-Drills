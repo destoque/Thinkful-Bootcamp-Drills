{
 "cells": [
  {
   "cell_type": "code",
   "execution_count": 1,
   "metadata": {},
   "outputs": [],
   "source": [
    "import pandas as pd\n",
    "from matplotlib import pyplot as plt\n",
    "import numpy as np\n",
    "import seaborn as sns\n",
    "from sklearn import linear_model\n",
    "%matplotlib inline\n",
    "pd.options.display.float_format = '{:.3f}'.format\n",
    "\n",
    "# Suppress annoying harmless error.\n",
    "import warnings\n",
    "warnings.filterwarnings(action=\"ignore\", module=\"scipy\", message=\"^internal gelsd\")"
   ]
  },
  {
   "cell_type": "markdown",
   "metadata": {},
   "source": [
    "\n",
    "Propertycrime = α + Population + Population2 + Murder + Robbery\n",
    "\n",
    "The 'population' variable is already set for you, but you will need to create the last three features. Robbery and Murder are currently continuous variables. For this model, please use these variables to create categorical features where values greater than 0 are coded 1, and values equal to 0 are coded 0. You'll use this data and model in a later assignment- for now, just write the code you need to get the data ready. Don't forget basic data cleaning procedures, either! Do some graphing to see if there are any anomalous cases, and decide how you want to deal with them."
   ]
  },
  {
   "cell_type": "code",
   "execution_count": 5,
   "metadata": {},
   "outputs": [
    {
     "data": {
      "text/plain": [
       "Index(['City', 'Population', 'Violent\\ncrime',\n",
       "       'Murder and\\nnonnegligent\\nmanslaughter',\n",
       "       'Rape\\n(revised\\ndefinition)1', 'Rape\\n(legacy\\ndefinition)2',\n",
       "       'Robbery', 'Aggravated\\nassault', 'Property\\ncrime', 'Burglary',\n",
       "       'Larceny-\\ntheft', 'Motor\\nvehicle\\ntheft', 'Arson3', 'Unnamed: 13'],\n",
       "      dtype='object')"
      ]
     },
     "metadata": {},
     "output_type": "display_data"
    },
    {
     "name": "stdout",
     "output_type": "stream",
     "text": [
      "    Population  Murder Robbery\n",
      "0        1,861   0.000       1\n",
      "1        2,577   0.000       1\n",
      "2        2,846   0.000       1\n",
      "3       97,956   1.000       1\n",
      "4        6,388   0.000       1\n",
      "5        4,089   0.000       1\n",
      "6        1,781   0.000       1\n",
      "7      118,296   1.000       1\n",
      "8        9,519   0.000       1\n",
      "9       18,182   0.000       1\n",
      "10       2,053   0.000       1\n",
      "11       4,523   0.000       1\n",
      "12         658   0.000       1\n",
      "13       2,522   0.000       1\n",
      "14      27,270   1.000       1\n",
      "15       3,333   0.000       1\n",
      "16       7,473   0.000       1\n",
      "17       5,418   0.000       1\n",
      "18      15,374   0.000       1\n",
      "19       5,733   0.000       1\n",
      "20      17,627   0.000       1\n",
      "21      34,243   0.000       1\n",
      "22      46,304   1.000       1\n",
      "23       1,410   0.000       1\n",
      "24      12,001   0.000       1\n",
      "25       1,022   0.000       1\n",
      "26       2,325   0.000       1\n",
      "27       2,054   0.000       1\n",
      "28       2,065   0.000       1\n",
      "29       2,358   0.000       1\n",
      "..         ...     ...     ...\n",
      "318      3,642   0.000       1\n",
      "319        615   0.000       1\n",
      "320     12,195   0.000       1\n",
      "321     61,686   1.000       1\n",
      "322     27,980   0.000       1\n",
      "323      6,887   1.000       1\n",
      "324     27,940   0.000       1\n",
      "325      3,012   0.000       1\n",
      "326      3,453   0.000       1\n",
      "327      5,828   0.000       1\n",
      "328      8,392   0.000       1\n",
      "329      5,175   0.000       1\n",
      "330     28,179   0.000       1\n",
      "331     10,245   1.000       1\n",
      "332      1,862   0.000       1\n",
      "333      4,337   0.000       1\n",
      "334     43,777   0.000       1\n",
      "335      1,797   0.000       1\n",
      "336      4,574   0.000       1\n",
      "337      1,732   0.000       1\n",
      "338     44,821   1.000       1\n",
      "339      2,604   0.000       1\n",
      "340     57,559   1.000       1\n",
      "341      3,733   0.000       1\n",
      "342      9,141   0.000       1\n",
      "343     10,685   0.000       1\n",
      "344        829   0.000       1\n",
      "345      5,931   0.000       1\n",
      "346    199,134   1.000       1\n",
      "347     36,643   0.000       1\n",
      "\n",
      "[348 rows x 3 columns]\n"
     ]
    }
   ],
   "source": [
    "df = pd.read_csv('C:\\\\Users\\\\david\\Desktop\\\\thinkful datasets\\\\table_8_offenses_known_to_law_enforcement_new_york_by_city_2013.csv', header=4)\n",
    "\n",
    "df\n",
    "display(df.columns)\n",
    "\n",
    "data= pd.DataFrame(df) \n",
    "\n",
    "needed_data = data.loc[:, ['Population', 'Murder and\\nnonnegligent\\nmanslaughter', 'Robbery']]\n",
    "needed_data.columns = ['Population', 'Murder', 'Robbery']\n",
    "\n",
    "needed_data = needed_data.dropna()\n",
    "\n",
    "needed_data.Robbery = needed_data.Robbery.where(needed_data.Robbery == 0, 1)\n",
    "needed_data.Murder = needed_data.Murder.where(needed_data.Murder == 0, 1)\n",
    "\n",
    "\n",
    "print (needed_data)"
   ]
  },
  {
   "cell_type": "code",
   "execution_count": 3,
   "metadata": {},
   "outputs": [
    {
     "data": {
      "image/png": "[encoded data removed]",
      "text/plain": [
       "<Figure size 432x288 with 1 Axes>"
      ]
     },
     "metadata": {},
     "output_type": "display_data"
    }
   ],
   "source": [
    "sns.boxplot(\n",
    "    needed_data.Murder,\n",
    "    needed_data.Population,\n",
    ")\n",
    "plt.xlabel('Murder')\n",
    "plt.ylabel('Population')\n",
    "plt.show()"
   ]
  },
  {
   "cell_type": "code",
   "execution_count": null,
   "metadata": {},
   "outputs": [],
   "source": []
  },
  {
   "cell_type": "code",
   "execution_count": null,
   "metadata": {},
   "outputs": [],
   "source": []
  }
 ],
 "metadata": {
  "kernelspec": {
   "display_name": "Python 3",
   "language": "python",
   "name": "python3"
  },
  "language_info": {
   "codemirror_mode": {
    "name": "ipython",
    "version": 3
   },
   "file_extension": ".py",
   "mimetype": "text/x-python",
   "name": "python",
   "nbconvert_exporter": "python",
   "pygments_lexer": "ipython3",
   "version": "3.6.5"
  }
 },
 "nbformat": 4,
 "nbformat_minor": 2
}
