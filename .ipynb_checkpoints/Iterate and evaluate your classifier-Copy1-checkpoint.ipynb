{
 "cells": [
  {
   "cell_type": "code",
   "execution_count": 1,
   "metadata": {},
   "outputs": [],
   "source": [
    "\n",
    "\n",
    "%matplotlib inline\n",
    "%matplotlib inline\n",
    "import numpy as np\n",
    "import pandas as pd\n",
    "import scipy\n",
    "import sklearn\n",
    "import matplotlib.pyplot as plt\n",
    "import seaborn as sns\n",
    "\n",
    "\n",
    "sns.set_style('darkgrid')"
   ]
  },
  {
   "cell_type": "code",
   "execution_count": 2,
   "metadata": {},
   "outputs": [
    {
     "data": {
      "text/html": [
       "<div>\n",
       "<style scoped>\n",
       "    .dataframe tbody tr th:only-of-type {\n",
       "        vertical-align: middle;\n",
       "    }\n",
       "\n",
       "    .dataframe tbody tr th {\n",
       "        vertical-align: top;\n",
       "    }\n",
       "\n",
       "    .dataframe thead th {\n",
       "        text-align: right;\n",
       "    }\n",
       "</style>\n",
       "<table border=\"1\" class=\"dataframe\">\n",
       "  <thead>\n",
       "    <tr style=\"text-align: right;\">\n",
       "      <th></th>\n",
       "      <th>text</th>\n",
       "      <th>sentiment</th>\n",
       "    </tr>\n",
       "  </thead>\n",
       "  <tbody>\n",
       "    <tr>\n",
       "      <th>0</th>\n",
       "      <td>Crust is not good.</td>\n",
       "      <td>0</td>\n",
       "    </tr>\n",
       "    <tr>\n",
       "      <th>1</th>\n",
       "      <td>Not tasty and the texture was just nasty.</td>\n",
       "      <td>0</td>\n",
       "    </tr>\n",
       "    <tr>\n",
       "      <th>2</th>\n",
       "      <td>Stopped by during the late May bank holiday of...</td>\n",
       "      <td>1</td>\n",
       "    </tr>\n",
       "    <tr>\n",
       "      <th>3</th>\n",
       "      <td>The selection on the menu was great and so wer...</td>\n",
       "      <td>1</td>\n",
       "    </tr>\n",
       "    <tr>\n",
       "      <th>4</th>\n",
       "      <td>Now I am getting angry and I want my damn pho.</td>\n",
       "      <td>0</td>\n",
       "    </tr>\n",
       "    <tr>\n",
       "      <th>5</th>\n",
       "      <td>Honeslty it didn't taste THAT fresh.)</td>\n",
       "      <td>0</td>\n",
       "    </tr>\n",
       "    <tr>\n",
       "      <th>6</th>\n",
       "      <td>The potatoes were like rubber and you could te...</td>\n",
       "      <td>0</td>\n",
       "    </tr>\n",
       "    <tr>\n",
       "      <th>7</th>\n",
       "      <td>The fries were great too.</td>\n",
       "      <td>1</td>\n",
       "    </tr>\n",
       "    <tr>\n",
       "      <th>8</th>\n",
       "      <td>A great touch.</td>\n",
       "      <td>1</td>\n",
       "    </tr>\n",
       "    <tr>\n",
       "      <th>9</th>\n",
       "      <td>Service was very prompt.</td>\n",
       "      <td>1</td>\n",
       "    </tr>\n",
       "    <tr>\n",
       "      <th>10</th>\n",
       "      <td>Would not go back.</td>\n",
       "      <td>0</td>\n",
       "    </tr>\n",
       "    <tr>\n",
       "      <th>11</th>\n",
       "      <td>The cashier had no care what so ever on what I...</td>\n",
       "      <td>0</td>\n",
       "    </tr>\n",
       "    <tr>\n",
       "      <th>12</th>\n",
       "      <td>I tried the Cape Cod ravoli, chicken,with cran...</td>\n",
       "      <td>1</td>\n",
       "    </tr>\n",
       "    <tr>\n",
       "      <th>13</th>\n",
       "      <td>I was disgusted because I was pretty sure that...</td>\n",
       "      <td>0</td>\n",
       "    </tr>\n",
       "    <tr>\n",
       "      <th>14</th>\n",
       "      <td>I was shocked because no signs indicate cash o...</td>\n",
       "      <td>0</td>\n",
       "    </tr>\n",
       "    <tr>\n",
       "      <th>15</th>\n",
       "      <td>Highly recommended.</td>\n",
       "      <td>1</td>\n",
       "    </tr>\n",
       "    <tr>\n",
       "      <th>16</th>\n",
       "      <td>Waitress was a little slow in service.</td>\n",
       "      <td>0</td>\n",
       "    </tr>\n",
       "    <tr>\n",
       "      <th>17</th>\n",
       "      <td>This place is not worth your time, let alone V...</td>\n",
       "      <td>0</td>\n",
       "    </tr>\n",
       "    <tr>\n",
       "      <th>18</th>\n",
       "      <td>did not like at all.</td>\n",
       "      <td>0</td>\n",
       "    </tr>\n",
       "    <tr>\n",
       "      <th>19</th>\n",
       "      <td>The Burrittos Blah!</td>\n",
       "      <td>0</td>\n",
       "    </tr>\n",
       "    <tr>\n",
       "      <th>20</th>\n",
       "      <td>The food, amazing.</td>\n",
       "      <td>1</td>\n",
       "    </tr>\n",
       "    <tr>\n",
       "      <th>21</th>\n",
       "      <td>Service is also cute.</td>\n",
       "      <td>1</td>\n",
       "    </tr>\n",
       "    <tr>\n",
       "      <th>22</th>\n",
       "      <td>I could care less... The interior is just beau...</td>\n",
       "      <td>1</td>\n",
       "    </tr>\n",
       "    <tr>\n",
       "      <th>23</th>\n",
       "      <td>So they performed.</td>\n",
       "      <td>1</td>\n",
       "    </tr>\n",
       "    <tr>\n",
       "      <th>24</th>\n",
       "      <td>That's right....the red velvet cake.....ohhh t...</td>\n",
       "      <td>1</td>\n",
       "    </tr>\n",
       "    <tr>\n",
       "      <th>25</th>\n",
       "      <td>#NAME?</td>\n",
       "      <td>0</td>\n",
       "    </tr>\n",
       "    <tr>\n",
       "      <th>26</th>\n",
       "      <td>This hole in the wall has great Mexican street...</td>\n",
       "      <td>1</td>\n",
       "    </tr>\n",
       "    <tr>\n",
       "      <th>27</th>\n",
       "      <td>Took an hour to get our food only 4 tables in ...</td>\n",
       "      <td>0</td>\n",
       "    </tr>\n",
       "    <tr>\n",
       "      <th>28</th>\n",
       "      <td>The worst was the salmon sashimi.</td>\n",
       "      <td>0</td>\n",
       "    </tr>\n",
       "    <tr>\n",
       "      <th>29</th>\n",
       "      <td>Also there are combos like a burger, fries, an...</td>\n",
       "      <td>1</td>\n",
       "    </tr>\n",
       "    <tr>\n",
       "      <th>...</th>\n",
       "      <td>...</td>\n",
       "      <td>...</td>\n",
       "    </tr>\n",
       "    <tr>\n",
       "      <th>969</th>\n",
       "      <td>I immediately said I wanted to talk to the man...</td>\n",
       "      <td>0</td>\n",
       "    </tr>\n",
       "    <tr>\n",
       "      <th>970</th>\n",
       "      <td>The ambiance isn't much better.</td>\n",
       "      <td>0</td>\n",
       "    </tr>\n",
       "    <tr>\n",
       "      <th>971</th>\n",
       "      <td>Unfortunately, it only set us up for disapppoi...</td>\n",
       "      <td>0</td>\n",
       "    </tr>\n",
       "    <tr>\n",
       "      <th>972</th>\n",
       "      <td>The food wasn't good.</td>\n",
       "      <td>0</td>\n",
       "    </tr>\n",
       "    <tr>\n",
       "      <th>973</th>\n",
       "      <td>Your servers suck, wait, correction, our serve...</td>\n",
       "      <td>0</td>\n",
       "    </tr>\n",
       "    <tr>\n",
       "      <th>974</th>\n",
       "      <td>What happened next was pretty....off putting.</td>\n",
       "      <td>0</td>\n",
       "    </tr>\n",
       "    <tr>\n",
       "      <th>975</th>\n",
       "      <td>too bad cause I know it's family owned, I real...</td>\n",
       "      <td>0</td>\n",
       "    </tr>\n",
       "    <tr>\n",
       "      <th>976</th>\n",
       "      <td>Overpriced for what you are getting.</td>\n",
       "      <td>0</td>\n",
       "    </tr>\n",
       "    <tr>\n",
       "      <th>977</th>\n",
       "      <td>I vomited in the bathroom mid lunch.</td>\n",
       "      <td>0</td>\n",
       "    </tr>\n",
       "    <tr>\n",
       "      <th>978</th>\n",
       "      <td>I kept looking at the time and it had soon bec...</td>\n",
       "      <td>0</td>\n",
       "    </tr>\n",
       "    <tr>\n",
       "      <th>979</th>\n",
       "      <td>I have been to very few places to eat that und...</td>\n",
       "      <td>0</td>\n",
       "    </tr>\n",
       "    <tr>\n",
       "      <th>980</th>\n",
       "      <td>We started with the tuna sashimi which was bro...</td>\n",
       "      <td>0</td>\n",
       "    </tr>\n",
       "    <tr>\n",
       "      <th>981</th>\n",
       "      <td>Food was below average.</td>\n",
       "      <td>0</td>\n",
       "    </tr>\n",
       "    <tr>\n",
       "      <th>982</th>\n",
       "      <td>It sure does beat the nachos at the movies but...</td>\n",
       "      <td>0</td>\n",
       "    </tr>\n",
       "    <tr>\n",
       "      <th>983</th>\n",
       "      <td>All in all, Ha Long Bay was a bit of a flop.</td>\n",
       "      <td>0</td>\n",
       "    </tr>\n",
       "    <tr>\n",
       "      <th>984</th>\n",
       "      <td>The problem I have is that they charge $11.99 ...</td>\n",
       "      <td>0</td>\n",
       "    </tr>\n",
       "    <tr>\n",
       "      <th>985</th>\n",
       "      <td>Shrimp- When I unwrapped it (I live only 1/2 a...</td>\n",
       "      <td>0</td>\n",
       "    </tr>\n",
       "    <tr>\n",
       "      <th>986</th>\n",
       "      <td>It lacked flavor, seemed undercooked, and dry.</td>\n",
       "      <td>0</td>\n",
       "    </tr>\n",
       "    <tr>\n",
       "      <th>987</th>\n",
       "      <td>It really is impressive that the place hasn't ...</td>\n",
       "      <td>0</td>\n",
       "    </tr>\n",
       "    <tr>\n",
       "      <th>988</th>\n",
       "      <td>I would avoid this place if you are staying in...</td>\n",
       "      <td>0</td>\n",
       "    </tr>\n",
       "    <tr>\n",
       "      <th>989</th>\n",
       "      <td>The refried beans that came with my meal were ...</td>\n",
       "      <td>0</td>\n",
       "    </tr>\n",
       "    <tr>\n",
       "      <th>990</th>\n",
       "      <td>Spend your money and time some place else.</td>\n",
       "      <td>0</td>\n",
       "    </tr>\n",
       "    <tr>\n",
       "      <th>991</th>\n",
       "      <td>A lady at the table next to us found a live gr...</td>\n",
       "      <td>0</td>\n",
       "    </tr>\n",
       "    <tr>\n",
       "      <th>992</th>\n",
       "      <td>the presentation of the food was awful.</td>\n",
       "      <td>0</td>\n",
       "    </tr>\n",
       "    <tr>\n",
       "      <th>993</th>\n",
       "      <td>I can't tell you how disappointed I was.</td>\n",
       "      <td>0</td>\n",
       "    </tr>\n",
       "    <tr>\n",
       "      <th>994</th>\n",
       "      <td>I think food should have flavor and texture an...</td>\n",
       "      <td>0</td>\n",
       "    </tr>\n",
       "    <tr>\n",
       "      <th>995</th>\n",
       "      <td>Appetite instantly gone.</td>\n",
       "      <td>0</td>\n",
       "    </tr>\n",
       "    <tr>\n",
       "      <th>996</th>\n",
       "      <td>Overall I was not impressed and would not go b...</td>\n",
       "      <td>0</td>\n",
       "    </tr>\n",
       "    <tr>\n",
       "      <th>997</th>\n",
       "      <td>The whole experience was underwhelming, and I ...</td>\n",
       "      <td>0</td>\n",
       "    </tr>\n",
       "    <tr>\n",
       "      <th>998</th>\n",
       "      <td>Then, as if I hadn't wasted enough of my life ...</td>\n",
       "      <td>0</td>\n",
       "    </tr>\n",
       "  </tbody>\n",
       "</table>\n",
       "<p>999 rows × 2 columns</p>\n",
       "</div>"
      ],
      "text/plain": [
       "                                                  text  sentiment\n",
       "0                                   Crust is not good.          0\n",
       "1            Not tasty and the texture was just nasty.          0\n",
       "2    Stopped by during the late May bank holiday of...          1\n",
       "3    The selection on the menu was great and so wer...          1\n",
       "4       Now I am getting angry and I want my damn pho.          0\n",
       "5                Honeslty it didn't taste THAT fresh.)          0\n",
       "6    The potatoes were like rubber and you could te...          0\n",
       "7                            The fries were great too.          1\n",
       "8                                       A great touch.          1\n",
       "9                             Service was very prompt.          1\n",
       "10                                  Would not go back.          0\n",
       "11   The cashier had no care what so ever on what I...          0\n",
       "12   I tried the Cape Cod ravoli, chicken,with cran...          1\n",
       "13   I was disgusted because I was pretty sure that...          0\n",
       "14   I was shocked because no signs indicate cash o...          0\n",
       "15                                 Highly recommended.          1\n",
       "16              Waitress was a little slow in service.          0\n",
       "17   This place is not worth your time, let alone V...          0\n",
       "18                                did not like at all.          0\n",
       "19                                 The Burrittos Blah!          0\n",
       "20                                  The food, amazing.          1\n",
       "21                               Service is also cute.          1\n",
       "22   I could care less... The interior is just beau...          1\n",
       "23                                  So they performed.          1\n",
       "24   That's right....the red velvet cake.....ohhh t...          1\n",
       "25                                              #NAME?          0\n",
       "26   This hole in the wall has great Mexican street...          1\n",
       "27   Took an hour to get our food only 4 tables in ...          0\n",
       "28                   The worst was the salmon sashimi.          0\n",
       "29   Also there are combos like a burger, fries, an...          1\n",
       "..                                                 ...        ...\n",
       "969  I immediately said I wanted to talk to the man...          0\n",
       "970                    The ambiance isn't much better.          0\n",
       "971  Unfortunately, it only set us up for disapppoi...          0\n",
       "972                              The food wasn't good.          0\n",
       "973  Your servers suck, wait, correction, our serve...          0\n",
       "974      What happened next was pretty....off putting.          0\n",
       "975  too bad cause I know it's family owned, I real...          0\n",
       "976               Overpriced for what you are getting.          0\n",
       "977               I vomited in the bathroom mid lunch.          0\n",
       "978  I kept looking at the time and it had soon bec...          0\n",
       "979  I have been to very few places to eat that und...          0\n",
       "980  We started with the tuna sashimi which was bro...          0\n",
       "981                            Food was below average.          0\n",
       "982  It sure does beat the nachos at the movies but...          0\n",
       "983       All in all, Ha Long Bay was a bit of a flop.          0\n",
       "984  The problem I have is that they charge $11.99 ...          0\n",
       "985  Shrimp- When I unwrapped it (I live only 1/2 a...          0\n",
       "986     It lacked flavor, seemed undercooked, and dry.          0\n",
       "987  It really is impressive that the place hasn't ...          0\n",
       "988  I would avoid this place if you are staying in...          0\n",
       "989  The refried beans that came with my meal were ...          0\n",
       "990         Spend your money and time some place else.          0\n",
       "991  A lady at the table next to us found a live gr...          0\n",
       "992            the presentation of the food was awful.          0\n",
       "993           I can't tell you how disappointed I was.          0\n",
       "994  I think food should have flavor and texture an...          0\n",
       "995                           Appetite instantly gone.          0\n",
       "996  Overall I was not impressed and would not go b...          0\n",
       "997  The whole experience was underwhelming, and I ...          0\n",
       "998  Then, as if I hadn't wasted enough of my life ...          0\n",
       "\n",
       "[999 rows x 2 columns]"
      ]
     },
     "execution_count": 2,
     "metadata": {},
     "output_type": "execute_result"
    }
   ],
   "source": [
    "data = pd.read_csv('C:\\\\Users\\\\david\\Desktop\\\\thinkful datasets\\\\yelp_labelled.csv')\n",
    "data\n",
    "data.columns = ['text', 'sentiment']\n",
    "\n",
    "data_copy = data.copy()\n",
    "data_copy2 = data.copy()\n",
    "\n",
    "data_copy2"
   ]
  },
  {
   "cell_type": "markdown",
   "metadata": {},
   "source": [
    "### Positive Reviews"
   ]
  },
  {
   "cell_type": "code",
   "execution_count": 3,
   "metadata": {},
   "outputs": [],
   "source": [
    "\n",
    "positive = [\"delicious\", \"good\", \"recommended\", \"love\", \"awesome\", \"best\", \"excellent\", \"highly\", \"amazing\", \"great\"]\n",
    "\n",
    "for key in positive:\n",
    "    data[key] = (data.text.str.contains(key, case=False)).astype(int)\n"
   ]
  },
  {
   "cell_type": "code",
   "execution_count": 4,
   "metadata": {},
   "outputs": [],
   "source": [
    "#designates that someone REALLY loves something\n",
    "data['allcaps'] = data.text.str.isupper()"
   ]
  },
  {
   "cell_type": "code",
   "execution_count": null,
   "metadata": {},
   "outputs": [],
   "source": []
  },
  {
   "cell_type": "code",
   "execution_count": 5,
   "metadata": {},
   "outputs": [
    {
     "data": {
      "text/plain": [
       "<matplotlib.axes._subplots.AxesSubplot at 0x26ecd648be0>"
      ]
     },
     "execution_count": 5,
     "metadata": {},
     "output_type": "execute_result"
    },
    {
     "data": {
      "image/png": "[encoded data removed]",
      "text/plain": [
       "<Figure size 432x288 with 2 Axes>"
      ]
     },
     "metadata": {},
     "output_type": "display_data"
    }
   ],
   "source": [
    "sns.heatmap(data.corr())"
   ]
  },
  {
   "cell_type": "code",
   "execution_count": 6,
   "metadata": {},
   "outputs": [],
   "source": [
    "datat = data[positive + ['allcaps']]\n",
    "target = data['sentiment']"
   ]
  },
  {
   "cell_type": "code",
   "execution_count": 7,
   "metadata": {},
   "outputs": [
    {
     "name": "stdout",
     "output_type": "stream",
     "text": [
      "Number of mislabeled points out of a total 999 points : 306\n",
      "Success rate of the first model was 0.6936936936936937\n"
     ]
    }
   ],
   "source": [
    "# Our data is binary / boolean, so we're importing the Bernoulli classifier.\n",
    "from sklearn.naive_bayes import BernoulliNB\n",
    "\n",
    "# Instantiate our model and store it in a new variable.\n",
    "bnb = BernoulliNB()\n",
    "\n",
    "# Fit our model to the data.\n",
    "bnb.fit(datat, target)\n",
    "\n",
    "# Classify, storing the result in a new variable.\n",
    "y_pred = bnb.predict(datat)\n",
    "\n",
    "# Display our results.\n",
    "print(\"Number of mislabeled points out of a total {} points : {}\".format(\n",
    "    datat.shape[0],\n",
    "    (target != y_pred).sum()\n",
    "))\n",
    "\n",
    "print(\"Success rate of the first model was {}\".format(1-((target != y_pred).sum() / datat.shape[0])))"
   ]
  },
  {
   "cell_type": "markdown",
   "metadata": {},
   "source": [
    "### Data with Holdouts"
   ]
  },
  {
   "cell_type": "code",
   "execution_count": 8,
   "metadata": {},
   "outputs": [
    {
     "name": "stdout",
     "output_type": "stream",
     "text": [
      "With 25% Holdout: 0.68\n",
      "Testing on Sample: 0.6936936936936937\n"
     ]
    }
   ],
   "source": [
    "from sklearn.model_selection import train_test_split\n",
    "# Use train_test_split to create the necessary training and test groups\n",
    "X_train, X_test, y_train, y_test = train_test_split(datat, target, test_size=0.25, random_state=20)\n",
    "print('With 25% Holdout: ' + str(bnb.fit(X_train, y_train).score(X_test, y_test)))\n",
    "print('Testing on Sample: ' + str(bnb.fit(datat, target).score(datat, target)))"
   ]
  },
  {
   "cell_type": "markdown",
   "metadata": {},
   "source": [
    "### Cross Validation with multiple holdout groups"
   ]
  },
  {
   "cell_type": "code",
   "execution_count": 9,
   "metadata": {},
   "outputs": [
    {
     "data": {
      "text/plain": [
       "array([0.66      , 0.7       , 0.71      , 0.76      , 0.64      ,\n",
       "       0.65      , 0.71      , 0.68      , 0.64      , 0.75757576])"
      ]
     },
     "execution_count": 9,
     "metadata": {},
     "output_type": "execute_result"
    }
   ],
   "source": [
    "from sklearn.model_selection import cross_val_score\n",
    "cross_val_score(bnb, datat, target, cv=10)"
   ]
  },
  {
   "cell_type": "code",
   "execution_count": 10,
   "metadata": {},
   "outputs": [
    {
     "name": "stdout",
     "output_type": "stream",
     "text": [
      "In the train group, the model incorrectly labeled 223 points out of 749 total points. It has a Sensitivity of 48.0% and a Specificity of 92.0%\n",
      "In the test group, the model incorrectly labeled 84 points out of 250 total points. It has a Sensitivity of 37.0%   and a Specificity of 95.0%\n"
     ]
    }
   ],
   "source": [
    "# Test my model with different holdout groups.\n",
    "from sklearn.model_selection import train_test_split\n",
    "data_train, data_test, target_train, target_test = train_test_split(datat, target, test_size=0.25, random_state=42)\n",
    "\n",
    "\n",
    "# Classify, storing the result in a new variable and Fit our model to the data.\n",
    "train_pred = bnb.fit(data_train, target_train).predict(data_train)\n",
    "# Store the resulting confusion matrix in a new variable. \n",
    "train_confusion = pd.crosstab(target_train, train_pred)\n",
    "# Display our results.\n",
    "print(\"In the train group, the model incorrectly labeled {} points out of {} total points. It has a Sensitivity of {}% and a Specificity of {}%\".format(\n",
    "    (target_train != train_pred).sum(),\n",
    "    data_train.shape[0],\n",
    "    round(train_confusion[1][1]/train_confusion.loc[1].sum()*100),\n",
    "    round(train_confusion[0][0]/train_confusion.loc[0].sum()*100)\n",
    "))\n",
    "\n",
    "# Classify, storing the result in a new variable and Fit our model to the data.\n",
    "test_pred = bnb.fit(data_test, target_test).predict(data_test)\n",
    "# Store the resulting confusion matrix in a new variable. \n",
    "test_confusion = pd.crosstab(target_test, test_pred)\n",
    "# Display our results.\n",
    "print(\"In the test group, the model incorrectly labeled {} points out of {} total points. It has a Sensitivity of {}%   and a Specificity of {}%\".format(\n",
    "    (target_test != test_pred).sum(),\n",
    "    data_test.shape[0],\n",
    "    round(test_confusion[1][1]/test_confusion.loc[1].sum()*100),\n",
    "    round(test_confusion[0][0]/test_confusion.loc[0].sum()*100)\n",
    "))"
   ]
  },
  {
   "cell_type": "code",
   "execution_count": 11,
   "metadata": {},
   "outputs": [
    {
     "name": "stdout",
     "output_type": "stream",
     "text": [
      "In total, the model incorrectly labeled 306 points out of 999 total points.\n",
      "col_0        0    1\n",
      "sentiment          \n",
      "0          462   38\n",
      "1          268  231\n"
     ]
    }
   ],
   "source": [
    "y_pred = bnb.fit(datat, target).predict(datat)\n",
    "\n",
    "# Display our results.\n",
    "print(\"In total, the model incorrectly labeled {} points out of {} total points.\".format(\n",
    "    (target != y_pred).sum(),\n",
    "    datat.shape[0]\n",
    "))\n",
    "\n",
    "df_confusion = pd.crosstab(target, y_pred)\n",
    "print(df_confusion)"
   ]
  },
  {
   "cell_type": "markdown",
   "metadata": {},
   "source": [
    "## Negative Classifier"
   ]
  },
  {
   "cell_type": "code",
   "execution_count": 12,
   "metadata": {},
   "outputs": [],
   "source": [
    "\n",
    "negative = [\"awful\", \"suck\", \"terrible\", \"poor\",\"bad\", \"worse\", \"disgusting\", \"worst\", \"gross\"]\n"
   ]
  },
  {
   "cell_type": "code",
   "execution_count": 13,
   "metadata": {},
   "outputs": [
    {
     "data": {
      "text/plain": [
       "<matplotlib.axes._subplots.AxesSubplot at 0x26ecf8d6438>"
      ]
     },
     "execution_count": 13,
     "metadata": {},
     "output_type": "execute_result"
    },
    {
     "data": {
      "image/png": "[encoded data removed]",
      "text/plain": [
       "<Figure size 432x288 with 2 Axes>"
      ]
     },
     "metadata": {},
     "output_type": "display_data"
    }
   ],
   "source": [
    "for word in negative:\n",
    "    # Note that we add spaces around the key so that we're getting the word,\n",
    "    # not just pattern matching.\n",
    "    data_copy[str(word)] = data_copy.text.str.contains(\n",
    "        str(word).lower(),\n",
    "        case=False\n",
    "    )\n",
    "    \n",
    "sns.heatmap(data_copy.corr())"
   ]
  },
  {
   "cell_type": "code",
   "execution_count": 14,
   "metadata": {},
   "outputs": [],
   "source": [
    "datat_neg = data_copy[negative]\n",
    "target_neg = data_copy['sentiment']"
   ]
  },
  {
   "cell_type": "code",
   "execution_count": 15,
   "metadata": {},
   "outputs": [
    {
     "name": "stdout",
     "output_type": "stream",
     "text": [
      "In the train group, the model incorrectly labeled 328 points out of 749 total points. It has a Sensitivity of 100.0% and a Specificity of 13.0%\n",
      "In the test group, the model incorrectly labeled 108 points out of 250 total points. It has a Sensitivity of 100.0%   and a Specificity of 14.0%\n",
      "Number of mislabeled points out of a total 999 points : 306\n",
      "Success rate of the the total model was 0.6936936936936937\n",
      "col_0       0    1\n",
      "sentiment         \n",
      "0          18  108\n",
      "1           0  124\n"
     ]
    },
    {
     "data": {
      "text/plain": [
       "array([[462,  38],\n",
       "       [268, 231]], dtype=int64)"
      ]
     },
     "execution_count": 15,
     "metadata": {},
     "output_type": "execute_result"
    }
   ],
   "source": [
    "# Test my model with different holdout groups.\n",
    "from sklearn.model_selection import train_test_split\n",
    "data_train, data_test, target_train, target_test = train_test_split(datat_neg, target_neg, test_size=0.25, random_state=42)\n",
    "\n",
    "# Our data is binary / boolean, so we're importing the Bernoulli classifier.\n",
    "from sklearn.naive_bayes import BernoulliNB\n",
    "# Instantiate our model and store it in a new variable.\n",
    "bnb = BernoulliNB()\n",
    "\n",
    "# Classify, storing the result in a new variable and Fit our model to the data.\n",
    "train_pred = bnb.fit(data_train, target_train).predict(data_train)\n",
    "# Store the resulting confusion matrix in a new variable. \n",
    "train_confusion = pd.crosstab(target_train, train_pred)\n",
    "# Display our results.\n",
    "print(\"In the train group, the model incorrectly labeled {} points out of {} total points. It has a Sensitivity of {}% and a Specificity of {}%\".format(\n",
    "    (target_train != train_pred).sum(),\n",
    "    data_train.shape[0],\n",
    "    round(train_confusion[1][1]/train_confusion.loc[1].sum()*100),\n",
    "    round(train_confusion[0][0]/train_confusion.loc[0].sum()*100)\n",
    "))\n",
    "\n",
    "# Classify, storing the result in a new variable and Fit our model to the data.\n",
    "test_pred = bnb.fit(data_test, target_test).predict(data_test)\n",
    "# Store the resulting confusion matrix in a new variable. \n",
    "test_confusion = pd.crosstab(target_test, test_pred)\n",
    "# Display our results.\n",
    "print(\"In the test group, the model incorrectly labeled {} points out of {} total points. It has a Sensitivity of {}%   and a Specificity of {}%\".format(\n",
    "    (target_test != test_pred).sum(),\n",
    "    data_test.shape[0],\n",
    "    round(test_confusion[1][1]/test_confusion.loc[1].sum()*100),\n",
    "    round(test_confusion[0][0]/test_confusion.loc[0].sum()*100)\n",
    "    \n",
    "))\n",
    "\n",
    "# Display our results.\n",
    "print(\"Number of mislabeled points out of a total {} points : {}\".format(\n",
    "    datat_neg.shape[0],\n",
    "    (target_neg != y_pred).sum()\n",
    "))\n",
    "\n",
    "print(\"Success rate of the the total model was {}\".format(1-((target != y_pred).sum() / datat.shape[0])))\n",
    "print(test_confusion)\n",
    "\n",
    "from sklearn.metrics import confusion_matrix\n",
    "confusion_matrix(target_neg, y_pred)"
   ]
  },
  {
   "cell_type": "code",
   "execution_count": 16,
   "metadata": {},
   "outputs": [
    {
     "name": "stdout",
     "output_type": "stream",
     "text": [
      "The model incorrectly labeled 436 points out of 999 total points.\n",
      "col_0       0    1\n",
      "sentiment         \n",
      "0          65  435\n",
      "1           1  498\n"
     ]
    }
   ],
   "source": [
    "y_pred = bnb.fit(datat_neg, target_neg).predict(datat_neg)\n",
    "\n",
    "# results.\n",
    "print(\"The model incorrectly labeled {} points out of {} total points.\".format(\n",
    "    (target_neg != y_pred).sum(),\n",
    "    datat.shape[0]\n",
    "))\n",
    "\n",
    "df_confusion = pd.crosstab(target_neg, y_pred)\n",
    "print(df_confusion)"
   ]
  },
  {
   "cell_type": "code",
   "execution_count": 17,
   "metadata": {},
   "outputs": [],
   "source": [
    "positive_2 = [\"suggest\", \"amazing\", \"beautiful\", \"love\", \"great\", \"tasty\", \"excited\", \"delicious\"]"
   ]
  },
  {
   "cell_type": "code",
   "execution_count": 18,
   "metadata": {},
   "outputs": [
    {
     "data": {
      "text/plain": [
       "<matplotlib.axes._subplots.AxesSubplot at 0x26ecf9a4470>"
      ]
     },
     "execution_count": 18,
     "metadata": {},
     "output_type": "execute_result"
    },
    {
     "data": {
      "image/png": "[encoded data removed]",
      "text/plain": [
       "<Figure size 432x288 with 2 Axes>"
      ]
     },
     "metadata": {},
     "output_type": "display_data"
    }
   ],
   "source": [
    "\n",
    "\n",
    "for key in positive_2:\n",
    "    data_copy2[key] = (data_copy2.text.str.contains(key, case=False)).astype(int)\n",
    "\n",
    "sns.heatmap(data_copy2.corr())\n"
   ]
  },
  {
   "cell_type": "code",
   "execution_count": 20,
   "metadata": {},
   "outputs": [],
   "source": [
    "datat_pos2 = data_copy2[positive_2]\n",
    "target_pos2 = data_copy2['sentiment']"
   ]
  },
  {
   "cell_type": "code",
   "execution_count": 21,
   "metadata": {},
   "outputs": [
    {
     "name": "stdout",
     "output_type": "stream",
     "text": [
      "In the train group, the model incorrectly labeled 275 points out of 749 total points. It has a Sensitivity of 29.0% and a Specificity of 97.0%\n",
      "In the test group, the model incorrectly labeled 95 points out of 250 total points. It has a Sensitivity of 25.0%   and a Specificity of 98.0%\n",
      "Number of mislabeled points out of a total 999 points : 436\n",
      "Success rate of the the total model was 0.5635635635635636\n",
      "col_0        0   1\n",
      "sentiment         \n",
      "0          124   2\n",
      "1           93  31\n"
     ]
    },
    {
     "data": {
      "text/plain": [
       "array([[ 65, 435],\n",
       "       [  1, 498]], dtype=int64)"
      ]
     },
     "execution_count": 21,
     "metadata": {},
     "output_type": "execute_result"
    }
   ],
   "source": [
    "# Test my model with different holdout groups.\n",
    "from sklearn.model_selection import train_test_split\n",
    "data_train, data_test, target_train, target_test = train_test_split(datat_pos2, target_pos2, test_size=0.25, random_state=42)\n",
    "\n",
    "# Our data is binary / boolean, so we're importing the Bernoulli classifier.\n",
    "from sklearn.naive_bayes import BernoulliNB\n",
    "# Instantiate our model and store it in a new variable.\n",
    "bnb = BernoulliNB()\n",
    "\n",
    "# Classify, storing the result in a new variable and Fit our model to the data.\n",
    "train_pred = bnb.fit(data_train, target_train).predict(data_train)\n",
    "# Store the resulting confusion matrix in a new variable. \n",
    "train_confusion = pd.crosstab(target_train, train_pred)\n",
    "# Display our results.\n",
    "print(\"In the train group, the model incorrectly labeled {} points out of {} total points. It has a Sensitivity of {}% and a Specificity of {}%\".format(\n",
    "    (target_train != train_pred).sum(),\n",
    "    data_train.shape[0],\n",
    "    round(train_confusion[1][1]/train_confusion.loc[1].sum()*100),\n",
    "    round(train_confusion[0][0]/train_confusion.loc[0].sum()*100)\n",
    "))\n",
    "\n",
    "# Classify, storing the result in a new variable and Fit our model to the data.\n",
    "test_pred = bnb.fit(data_test, target_test).predict(data_test)\n",
    "# Store the resulting confusion matrix in a new variable. \n",
    "test_confusion = pd.crosstab(target_test, test_pred)\n",
    "# Display our results.\n",
    "print(\"In the test group, the model incorrectly labeled {} points out of {} total points. It has a Sensitivity of {}%   and a Specificity of {}%\".format(\n",
    "    (target_test != test_pred).sum(),\n",
    "    data_test.shape[0],\n",
    "    round(test_confusion[1][1]/test_confusion.loc[1].sum()*100),\n",
    "    round(test_confusion[0][0]/test_confusion.loc[0].sum()*100)\n",
    "    \n",
    "))\n",
    "\n",
    "# Display our results.\n",
    "print(\"Number of mislabeled points out of a total {} points : {}\".format(\n",
    "    datat_neg.shape[0],\n",
    "    (target_neg != y_pred).sum()\n",
    "))\n",
    "\n",
    "print(\"Success rate of the the total model was {}\".format(1-((target != y_pred).sum() / datat.shape[0])))\n",
    "print(test_confusion)\n",
    "\n",
    "from sklearn.metrics import confusion_matrix\n",
    "confusion_matrix(target_neg, y_pred)"
   ]
  },
  {
   "cell_type": "code",
   "execution_count": null,
   "metadata": {},
   "outputs": [],
   "source": []
  }
 ],
 "metadata": {
  "kernelspec": {
   "display_name": "Python 3",
   "language": "python",
   "name": "python3"
  },
  "language_info": {
   "codemirror_mode": {
    "name": "ipython",
    "version": 3
   },
   "file_extension": ".py",
   "mimetype": "text/x-python",
   "name": "python",
   "nbconvert_exporter": "python",
   "pygments_lexer": "ipython3",
   "version": "3.6.5"
  }
 },
 "nbformat": 4,
 "nbformat_minor": 2
}
