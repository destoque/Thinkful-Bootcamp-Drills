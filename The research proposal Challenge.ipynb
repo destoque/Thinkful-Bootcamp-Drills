{
 "cells": [
  {
   "cell_type": "markdown",
   "metadata": {},
   "source": [
    "-  Problem- Congestion in US cities have been on the rise. Rideshare companies like Uber and Lyft have increased in popularity substantially. Do these companies create more congestion?"
   ]
  },
  {
   "cell_type": "markdown",
   "metadata": {},
   "source": [
    "-  Hypothesis- Rideshare companies contribute to the overal congestion of some US cities"
   ]
  },
  {
   "cell_type": "markdown",
   "metadata": {},
   "source": [
    "-  The method of testing- I will examine Uber data and look for a correlation between congestion ad the number of rides. I will use a city that banned Uber for a few months as a test to see if congestion was affected by the ban. The city was Austin, Texas.\n",
    "\n",
    "I will use data from NYC to see the correlation between Uber usage and congestion"
   ]
  },
  {
   "cell_type": "code",
   "execution_count": null,
   "metadata": {},
   "outputs": [],
   "source": []
  }
 ],
 "metadata": {
  "kernelspec": {
   "display_name": "Python 3",
   "language": "python",
   "name": "python3"
  },
  "language_info": {
   "codemirror_mode": {
    "name": "ipython",
    "version": 3
   },
   "file_extension": ".py",
   "mimetype": "text/x-python",
   "name": "python",
   "nbconvert_exporter": "python",
   "pygments_lexer": "ipython3",
   "version": "3.6.5"
  }
 },
 "nbformat": 4,
 "nbformat_minor": 2
}
